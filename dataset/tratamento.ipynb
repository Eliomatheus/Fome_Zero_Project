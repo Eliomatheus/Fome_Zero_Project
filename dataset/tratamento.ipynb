{
 "cells": [
  {
   "cell_type": "code",
   "execution_count": 1,
   "id": "3ebf09eb-4a9f-483c-932b-52ceb553ee81",
   "metadata": {},
   "outputs": [],
   "source": [
    "# Importando bibliotecas\n",
    "\n",
    "import pandas as pd\n",
    "import re\n",
    "import numpy as np\n",
    "import inflection\n",
    "import streamlit as st\n",
    "from PIL import Image\n",
    "import folium\n",
    "from streamlit_folium import folium_static\n",
    "\n",
    "# configurando para mostrar todas as colunas\n",
    "pd.set_option('display.max_columns', None)\n",
    "\n",
    "# dando nome ao DataFrame\n",
    "\n",
    "df = pd.read_csv('zomato.csv')"
   ]
  },
  {
   "cell_type": "markdown",
   "id": "1e5abcb0-6b7d-45c1-91be-32c7384a2362",
   "metadata": {},
   "source": [
    "# Criação de Funções\n"
   ]
  },
  {
   "cell_type": "code",
   "execution_count": 2,
   "id": "6753300c-6f7b-48af-89bc-aed94235f532",
   "metadata": {},
   "outputs": [],
   "source": [
    "# Renomear as colunas do DataFrame\n",
    "def rename_columns(dataframe):\n",
    "    df = dataframe.copy()\n",
    "    title = lambda x: inflection.titleize(x)\n",
    "    snakecase = lambda x: inflection.underscore(x)\n",
    "    spaces = lambda x: x.replace(\" \", \"\")\n",
    "    cols_old = list(df.columns)\n",
    "    cols_old = list(map(title, cols_old))\n",
    "    cols_old = list(map(spaces, cols_old))\n",
    "    cols_new = list(map(snakecase, cols_old))\n",
    "    df.columns = cols_new\n",
    "    return df\n",
    "# Colocando a função para rodar \n",
    "df1 = rename_columns(df)"
   ]
  },
  {
   "cell_type": "code",
   "execution_count": 3,
   "id": "d2ba3694-645e-4245-9ac0-45e64f7356ff",
   "metadata": {},
   "outputs": [],
   "source": [
    "# Preenchimento do nome dos países\n",
    "COUNTRIES = {\n",
    "1: \"India\",\n",
    "14: \"Australia\",\n",
    "30: \"Brazil\",\n",
    "37: \"Canada\",\n",
    "94: \"Indonesia\",\n",
    "148: \"New Zeland\",\n",
    "162: \"Philippines\",\n",
    "166: \"Qatar\",\n",
    "184: \"Singapure\",\n",
    "189: \"South Africa\",\n",
    "191: \"Sri Lanka\",\n",
    "208: \"Turkey\",\n",
    "214: \"United Arab Emirates\",\n",
    "215: \"England\",\n",
    "216: \"United States of America\",\n",
    "}\n",
    "\n",
    "def country_name(country_id):\n",
    "    return COUNTRIES[country_id]\n",
    "\n",
    "# Colocando a função para rodar \n",
    "# Criando uma nova coluna chamada country e colocando ela no lugar da country_code\n",
    "df1.insert(loc=df1.columns.get_loc(\"country_code\"), column=\"country\", value=df1[\"country_code\"].apply(country_name))\n",
    "# Excluindo a coluna country_code\n",
    "df1.drop(\"country_code\", axis=1, inplace=True)"
   ]
  },
  {
   "cell_type": "code",
   "execution_count": 4,
   "id": "8ed882dc-efbf-425d-97b5-ea6130f6fb68",
   "metadata": {},
   "outputs": [],
   "source": [
    "# Criação do Tipo de Categoria de Comida\n",
    "def create_price_type(price_range):\n",
    "    if price_range == 1:\n",
    "        return \"cheap\"\n",
    "    elif price_range == 2:\n",
    "        return \"normal\"\n",
    "    elif price_range == 3:\n",
    "        return \"expensive\"\n",
    "    else:\n",
    "        return \"gourmet\"\n",
    "\n",
    "# Colocando a função para rodar  \n",
    "\n",
    "df1['price_type'] = df1['price_range'].apply(create_price_type)\n",
    "# removendo a coluna price_range\n",
    "df1.drop(\"price_range\", axis=1, inplace=True)\n",
    "\n",
    "# removendo a coluna price_type\n",
    "price_type = df1.pop(\"price_type\")\n",
    "\n",
    "# inserindo a coluna price_type na nova posição\n",
    "df1.insert(10, \"price_type\", price_type)"
   ]
  },
  {
   "cell_type": "code",
   "execution_count": 5,
   "id": "50192c09-cb7a-4851-88be-21dea2886376",
   "metadata": {},
   "outputs": [],
   "source": [
    "# Criação do nome das Cores\n",
    "COLORS = {\n",
    "\"3F7E00\": \"darkgreen\",\n",
    "\"5BA829\": \"green\",\n",
    "\"9ACD32\": \"lightgreen\",\n",
    "\"CDD614\": \"orange\",\n",
    "\"FFBA00\": \"red\",\n",
    "\"CBCBC8\": \"darkred\",\n",
    "\"FF7800\": \"darkred\",\n",
    "}\n",
    "\n",
    "def color_name(color_code):\n",
    "    return COLORS[color_code]\n",
    "\n",
    "# Colocando a função para rodar \n",
    "df1.insert(loc=df1.columns.get_loc(\"rating_color\"), column=\"color_name\", value=df1[\"rating_color\"].apply(color_name))\n"
   ]
  },
  {
   "cell_type": "markdown",
   "id": "9707aa88-25e9-4af4-8b4d-c474f508cc1f",
   "metadata": {},
   "source": [
    "# Limpeza dos dados "
   ]
  },
  {
   "cell_type": "code",
   "execution_count": 6,
   "id": "6aec99fa-f169-4d33-b972-368930e6f796",
   "metadata": {},
   "outputs": [],
   "source": [
    "# categorizarodos os restaurantes somente por um tipo de culinária\n",
    "df1[\"cuisines\"] = df1.loc[:, \"cuisines\"].apply(lambda x: x.split(\",\")[0] if isinstance(x, str) else x)"
   ]
  },
  {
   "cell_type": "code",
   "execution_count": 7,
   "id": "a8c2dfee-f70f-44ef-a458-809bbf832190",
   "metadata": {},
   "outputs": [],
   "source": [
    "# excluir coluna de Menu \n",
    "df1.drop(\"switch_to_order_menu\", axis=1, inplace=True)"
   ]
  },
  {
   "cell_type": "code",
   "execution_count": 8,
   "id": "e351d275-a946-45b7-97c2-15c6db745b51",
   "metadata": {},
   "outputs": [],
   "source": [
    "# limpando dados duplicados\n",
    "\n",
    "df1.drop_duplicates(subset=\"restaurant_id\", keep=\"first\", inplace=True)\n",
    "# Excluido o index \n",
    "df1.reset_index(drop=True, inplace=True)"
   ]
  },
  {
   "cell_type": "code",
   "execution_count": 9,
   "id": "9e8cc151-2c56-4212-8a6c-46d514f9bcbd",
   "metadata": {},
   "outputs": [],
   "source": [
    "# Removendo Linhas que tem valores NaN \n",
    "df1.dropna(inplace=True)\n",
    "\n",
    "# seleciona linhas que contém as strings 'Drinks Only' ou 'Mineira' na coluna 'cuisines'\n",
    "linhas_remover = df1[df1['cuisines'].str.contains('Drinks Only|Mineira')]\n",
    "\n",
    "# remove as linhas selecionadas\n",
    "df1.drop(linhas_remover.index, inplace=True)"
   ]
  },
  {
   "cell_type": "markdown",
   "id": "360257fc-762d-4025-9de2-5ca9c9bd4b8e",
   "metadata": {},
   "source": [
    "# Convertendo as moedas para dolar e criando uma coluna nova "
   ]
  },
  {
   "cell_type": "code",
   "execution_count": 10,
   "id": "38885ee9-828c-4339-a86a-eab0c6f0ba09",
   "metadata": {},
   "outputs": [],
   "source": [
    "# Convertendo as moedas para dolar \n",
    "conversion_rates = {\n",
    "    'Botswana Pula(P)': 13.61,\n",
    "    'Brazilian Real(R$)': 4.97,\n",
    "    'Emirati Diram(AED)': 3.67,\n",
    "    'Indian Rupees(Rs.)': 82.81,\n",
    "    'Indonesian Rupiah(IDR)': 14894.60,\n",
    "    'NewZealand($)': 1.62,\n",
    "    'Pounds(£)': 0.80,\n",
    "    'Qatari Rial(QR)': 3.64,\n",
    "    'Rand(R)': 19.20,\n",
    "    'Sri Lankan Rupee(LKR)': 305.01,\n",
    "    'Turkish Lira(TL)': 19.87\n",
    "}\n",
    "\n",
    "def dollar(df):\n",
    "    df1['price_in_dollar'] = df1[['currency', 'average_cost_for_two']].apply(lambda x: \n",
    "        x['average_cost_for_two'] if x['currency'] == 'Dollar($)' else x['average_cost_for_two'] / conversion_rates.get(x['currency'], 1), axis=1).round(2)\n",
    "    return df1\n",
    "\n",
    "#  Aplicando a Função \n",
    "df1 = dollar(df)"
   ]
  },
  {
   "cell_type": "markdown",
   "id": "341bc529-b27c-4c45-b7df-7905ac6acf0b",
   "metadata": {},
   "source": [
    "# Verificando se tem algum valor fora do normal "
   ]
  },
  {
   "cell_type": "code",
   "execution_count": 11,
   "id": "5b116391-068c-4f7d-80a0-3dd15492e39a",
   "metadata": {},
   "outputs": [
    {
     "data": {
      "text/plain": [
       "array([      70,       45,      160,       35,       40,      110,\n",
       "             85,      100,       50,       96,       65,       80,\n",
       "             90, 25000017,       75,       60,       95,       30,\n",
       "             55,      130,      150,      140,      120,      250,\n",
       "            200,       20,      165,      170,        0,      105,\n",
       "            139,       44,      115], dtype=int64)"
      ]
     },
     "execution_count": 11,
     "metadata": {},
     "output_type": "execute_result"
    }
   ],
   "source": [
    "df1.loc[df1['country'] == 'Australia', 'average_cost_for_two'].unique()\n"
   ]
  },
  {
   "cell_type": "code",
   "execution_count": 12,
   "id": "ea437490-d6c4-4791-89e5-72435ef49b71",
   "metadata": {},
   "outputs": [
    {
     "data": {
      "text/html": [
       "<div>\n",
       "<style scoped>\n",
       "    .dataframe tbody tr th:only-of-type {\n",
       "        vertical-align: middle;\n",
       "    }\n",
       "\n",
       "    .dataframe tbody tr th {\n",
       "        vertical-align: top;\n",
       "    }\n",
       "\n",
       "    .dataframe thead th {\n",
       "        text-align: right;\n",
       "    }\n",
       "</style>\n",
       "<table border=\"1\" class=\"dataframe\">\n",
       "  <thead>\n",
       "    <tr style=\"text-align: right;\">\n",
       "      <th></th>\n",
       "      <th>restaurant_id</th>\n",
       "      <th>restaurant_name</th>\n",
       "      <th>country</th>\n",
       "      <th>city</th>\n",
       "      <th>address</th>\n",
       "      <th>locality</th>\n",
       "      <th>locality_verbose</th>\n",
       "      <th>longitude</th>\n",
       "      <th>latitude</th>\n",
       "      <th>cuisines</th>\n",
       "      <th>price_type</th>\n",
       "      <th>average_cost_for_two</th>\n",
       "      <th>currency</th>\n",
       "      <th>has_table_booking</th>\n",
       "      <th>has_online_delivery</th>\n",
       "      <th>is_delivering_now</th>\n",
       "      <th>aggregate_rating</th>\n",
       "      <th>color_name</th>\n",
       "      <th>rating_color</th>\n",
       "      <th>rating_text</th>\n",
       "      <th>votes</th>\n",
       "      <th>price_in_dollar</th>\n",
       "    </tr>\n",
       "  </thead>\n",
       "  <tbody>\n",
       "    <tr>\n",
       "      <th>356</th>\n",
       "      <td>16608070</td>\n",
       "      <td>d'Arry's Verandah Restaurant</td>\n",
       "      <td>Australia</td>\n",
       "      <td>Adelaide</td>\n",
       "      <td>Osborn Rd, McLaren Vale</td>\n",
       "      <td>McLaren Vale</td>\n",
       "      <td>McLaren Vale</td>\n",
       "      <td>138.545242</td>\n",
       "      <td>-35.198372</td>\n",
       "      <td>Modern Australian</td>\n",
       "      <td>cheap</td>\n",
       "      <td>25000017</td>\n",
       "      <td>Dollar($)</td>\n",
       "      <td>1</td>\n",
       "      <td>0</td>\n",
       "      <td>0</td>\n",
       "      <td>4.7</td>\n",
       "      <td>darkgreen</td>\n",
       "      <td>3F7E00</td>\n",
       "      <td>Excellent</td>\n",
       "      <td>203</td>\n",
       "      <td>25000017.0</td>\n",
       "    </tr>\n",
       "  </tbody>\n",
       "</table>\n",
       "</div>"
      ],
      "text/plain": [
       "     restaurant_id               restaurant_name    country      city   \n",
       "356       16608070  d'Arry's Verandah Restaurant  Australia  Adelaide  \\\n",
       "\n",
       "                     address      locality locality_verbose   longitude   \n",
       "356  Osborn Rd, McLaren Vale  McLaren Vale     McLaren Vale  138.545242  \\\n",
       "\n",
       "      latitude           cuisines price_type  average_cost_for_two   currency   \n",
       "356 -35.198372  Modern Australian      cheap              25000017  Dollar($)  \\\n",
       "\n",
       "     has_table_booking  has_online_delivery  is_delivering_now   \n",
       "356                  1                    0                  0  \\\n",
       "\n",
       "     aggregate_rating color_name rating_color rating_text  votes   \n",
       "356               4.7  darkgreen       3F7E00   Excellent    203  \\\n",
       "\n",
       "     price_in_dollar  \n",
       "356       25000017.0  "
      ]
     },
     "execution_count": 12,
     "metadata": {},
     "output_type": "execute_result"
    }
   ],
   "source": [
    "# Procurando a linha que estar com o valor muito suspeito no data frame \n",
    "df1.loc[(df1['country'] == 'Australia') & (df1['average_cost_for_two'] == 25000017), :]\n"
   ]
  },
  {
   "cell_type": "code",
   "execution_count": 13,
   "id": "f5021d6b-d478-4b6f-98c1-48403b7fd2ac",
   "metadata": {},
   "outputs": [],
   "source": [
    "# substituindo o valor pelo valor \"Medio\" dos pratos do restaurante \n",
    "df1.loc[(df1['country'] == 'Australia') & (df1['average_cost_for_two'] == 25000017), 'average_cost_for_two'] = 185"
   ]
  },
  {
   "cell_type": "code",
   "execution_count": 14,
   "id": "4abe6fa5-4b93-4d4c-bb64-f7446541a019",
   "metadata": {},
   "outputs": [
    {
     "data": {
      "text/html": [
       "<div>\n",
       "<style scoped>\n",
       "    .dataframe tbody tr th:only-of-type {\n",
       "        vertical-align: middle;\n",
       "    }\n",
       "\n",
       "    .dataframe tbody tr th {\n",
       "        vertical-align: top;\n",
       "    }\n",
       "\n",
       "    .dataframe thead th {\n",
       "        text-align: right;\n",
       "    }\n",
       "</style>\n",
       "<table border=\"1\" class=\"dataframe\">\n",
       "  <thead>\n",
       "    <tr style=\"text-align: right;\">\n",
       "      <th></th>\n",
       "      <th>restaurant_id</th>\n",
       "      <th>restaurant_name</th>\n",
       "      <th>country</th>\n",
       "      <th>city</th>\n",
       "      <th>address</th>\n",
       "      <th>locality</th>\n",
       "      <th>locality_verbose</th>\n",
       "      <th>longitude</th>\n",
       "      <th>latitude</th>\n",
       "      <th>cuisines</th>\n",
       "      <th>price_type</th>\n",
       "      <th>average_cost_for_two</th>\n",
       "      <th>currency</th>\n",
       "      <th>has_table_booking</th>\n",
       "      <th>has_online_delivery</th>\n",
       "      <th>is_delivering_now</th>\n",
       "      <th>aggregate_rating</th>\n",
       "      <th>color_name</th>\n",
       "      <th>rating_color</th>\n",
       "      <th>rating_text</th>\n",
       "      <th>votes</th>\n",
       "      <th>price_in_dollar</th>\n",
       "    </tr>\n",
       "  </thead>\n",
       "  <tbody>\n",
       "    <tr>\n",
       "      <th>356</th>\n",
       "      <td>16608070</td>\n",
       "      <td>d'Arry's Verandah Restaurant</td>\n",
       "      <td>Australia</td>\n",
       "      <td>Adelaide</td>\n",
       "      <td>Osborn Rd, McLaren Vale</td>\n",
       "      <td>McLaren Vale</td>\n",
       "      <td>McLaren Vale</td>\n",
       "      <td>138.545242</td>\n",
       "      <td>-35.198372</td>\n",
       "      <td>Modern Australian</td>\n",
       "      <td>cheap</td>\n",
       "      <td>185</td>\n",
       "      <td>Dollar($)</td>\n",
       "      <td>1</td>\n",
       "      <td>0</td>\n",
       "      <td>0</td>\n",
       "      <td>4.7</td>\n",
       "      <td>darkgreen</td>\n",
       "      <td>3F7E00</td>\n",
       "      <td>Excellent</td>\n",
       "      <td>203</td>\n",
       "      <td>25000017.0</td>\n",
       "    </tr>\n",
       "  </tbody>\n",
       "</table>\n",
       "</div>"
      ],
      "text/plain": [
       "     restaurant_id               restaurant_name    country      city   \n",
       "356       16608070  d'Arry's Verandah Restaurant  Australia  Adelaide  \\\n",
       "\n",
       "                     address      locality locality_verbose   longitude   \n",
       "356  Osborn Rd, McLaren Vale  McLaren Vale     McLaren Vale  138.545242  \\\n",
       "\n",
       "      latitude           cuisines price_type  average_cost_for_two   currency   \n",
       "356 -35.198372  Modern Australian      cheap                   185  Dollar($)  \\\n",
       "\n",
       "     has_table_booking  has_online_delivery  is_delivering_now   \n",
       "356                  1                    0                  0  \\\n",
       "\n",
       "     aggregate_rating color_name rating_color rating_text  votes   \n",
       "356               4.7  darkgreen       3F7E00   Excellent    203  \\\n",
       "\n",
       "     price_in_dollar  \n",
       "356       25000017.0  "
      ]
     },
     "execution_count": 14,
     "metadata": {},
     "output_type": "execute_result"
    }
   ],
   "source": [
    "#verificando se ocorreu a correção do valor \n",
    "df1.loc[(df1['country'] == 'Australia') & (df1['average_cost_for_two'] == 185), :]\n"
   ]
  },
  {
   "cell_type": "code",
   "execution_count": 18,
   "id": "baa9bf58-9729-416a-a13d-d62d08d8e0f7",
   "metadata": {},
   "outputs": [],
   "source": [
    "# Mudando o valor do Price_in_dollar\n",
    "df1.loc[(df1['country'] == 'Australia') & (df1['price_in_dollar'] == 25000017.0), 'price_in_dollar'] = 185"
   ]
  },
  {
   "cell_type": "code",
   "execution_count": 19,
   "id": "c34633ad-c41b-4321-a596-18180343aff8",
   "metadata": {},
   "outputs": [
    {
     "data": {
      "text/html": [
       "<div>\n",
       "<style scoped>\n",
       "    .dataframe tbody tr th:only-of-type {\n",
       "        vertical-align: middle;\n",
       "    }\n",
       "\n",
       "    .dataframe tbody tr th {\n",
       "        vertical-align: top;\n",
       "    }\n",
       "\n",
       "    .dataframe thead th {\n",
       "        text-align: right;\n",
       "    }\n",
       "</style>\n",
       "<table border=\"1\" class=\"dataframe\">\n",
       "  <thead>\n",
       "    <tr style=\"text-align: right;\">\n",
       "      <th></th>\n",
       "      <th>restaurant_id</th>\n",
       "      <th>restaurant_name</th>\n",
       "      <th>country</th>\n",
       "      <th>city</th>\n",
       "      <th>address</th>\n",
       "      <th>locality</th>\n",
       "      <th>locality_verbose</th>\n",
       "      <th>longitude</th>\n",
       "      <th>latitude</th>\n",
       "      <th>cuisines</th>\n",
       "      <th>price_type</th>\n",
       "      <th>average_cost_for_two</th>\n",
       "      <th>currency</th>\n",
       "      <th>has_table_booking</th>\n",
       "      <th>has_online_delivery</th>\n",
       "      <th>is_delivering_now</th>\n",
       "      <th>aggregate_rating</th>\n",
       "      <th>color_name</th>\n",
       "      <th>rating_color</th>\n",
       "      <th>rating_text</th>\n",
       "      <th>votes</th>\n",
       "      <th>price_in_dollar</th>\n",
       "    </tr>\n",
       "  </thead>\n",
       "  <tbody>\n",
       "    <tr>\n",
       "      <th>356</th>\n",
       "      <td>16608070</td>\n",
       "      <td>d'Arry's Verandah Restaurant</td>\n",
       "      <td>Australia</td>\n",
       "      <td>Adelaide</td>\n",
       "      <td>Osborn Rd, McLaren Vale</td>\n",
       "      <td>McLaren Vale</td>\n",
       "      <td>McLaren Vale</td>\n",
       "      <td>138.545242</td>\n",
       "      <td>-35.198372</td>\n",
       "      <td>Modern Australian</td>\n",
       "      <td>cheap</td>\n",
       "      <td>185</td>\n",
       "      <td>Dollar($)</td>\n",
       "      <td>1</td>\n",
       "      <td>0</td>\n",
       "      <td>0</td>\n",
       "      <td>4.7</td>\n",
       "      <td>darkgreen</td>\n",
       "      <td>3F7E00</td>\n",
       "      <td>Excellent</td>\n",
       "      <td>203</td>\n",
       "      <td>185.0</td>\n",
       "    </tr>\n",
       "  </tbody>\n",
       "</table>\n",
       "</div>"
      ],
      "text/plain": [
       "     restaurant_id               restaurant_name    country      city   \n",
       "356       16608070  d'Arry's Verandah Restaurant  Australia  Adelaide  \\\n",
       "\n",
       "                     address      locality locality_verbose   longitude   \n",
       "356  Osborn Rd, McLaren Vale  McLaren Vale     McLaren Vale  138.545242  \\\n",
       "\n",
       "      latitude           cuisines price_type  average_cost_for_two   currency   \n",
       "356 -35.198372  Modern Australian      cheap                   185  Dollar($)  \\\n",
       "\n",
       "     has_table_booking  has_online_delivery  is_delivering_now   \n",
       "356                  1                    0                  0  \\\n",
       "\n",
       "     aggregate_rating color_name rating_color rating_text  votes   \n",
       "356               4.7  darkgreen       3F7E00   Excellent    203  \\\n",
       "\n",
       "     price_in_dollar  \n",
       "356            185.0  "
      ]
     },
     "execution_count": 19,
     "metadata": {},
     "output_type": "execute_result"
    }
   ],
   "source": [
    "df1.loc[(df1['country'] == 'Australia') & (df1['average_cost_for_two'] == 185), :]"
   ]
  },
  {
   "cell_type": "markdown",
   "id": "dc65a2d1-b450-4c83-9283-f65212487839",
   "metadata": {},
   "source": [
    "# Exportanto o arquivo tratado"
   ]
  },
  {
   "cell_type": "code",
   "execution_count": 20,
   "id": "8adb4c60-1a1b-4eb5-9e45-8109be966945",
   "metadata": {},
   "outputs": [],
   "source": [
    "df1.to_csv('zomato_tratado.csv', sep=',', index=False)"
   ]
  },
  {
   "cell_type": "code",
   "execution_count": null,
   "id": "df8c2386-e2c8-49c6-a25f-c4224a284346",
   "metadata": {},
   "outputs": [],
   "source": []
  }
 ],
 "metadata": {
  "kernelspec": {
   "display_name": "Python 3 (ipykernel)",
   "language": "python",
   "name": "python3"
  },
  "language_info": {
   "codemirror_mode": {
    "name": "ipython",
    "version": 3
   },
   "file_extension": ".py",
   "mimetype": "text/x-python",
   "name": "python",
   "nbconvert_exporter": "python",
   "pygments_lexer": "ipython3",
   "version": "3.8.16"
  }
 },
 "nbformat": 4,
 "nbformat_minor": 5
}
