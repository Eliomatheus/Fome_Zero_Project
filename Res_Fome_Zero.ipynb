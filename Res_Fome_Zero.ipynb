{
 "cells": [
  {
   "cell_type": "code",
   "execution_count": 1,
   "id": "f0e4538a",
   "metadata": {},
   "outputs": [],
   "source": [
    "# Importando bibliotecas\n",
    "\n",
    "import pandas as pd\n",
    "import re\n",
    "import numpy as np\n",
    "import inflection\n",
    "import streamlit as st\n",
    "from PIL import Image\n",
    "import folium\n",
    "from streamlit_folium import folium_static\n",
    "\n",
    "# configurando para mostrar todas as colunas\n",
    "pd.set_option('display.max_columns', None)\n",
    "\n",
    "# dando nome ao DataFrame\n",
    "\n",
    "df = pd.read_csv('dataset/zomato_tratado.csv')"
   ]
  },
  {
   "cell_type": "code",
   "execution_count": 2,
   "id": "460299db-6443-4fd0-aa18-be78cf9a6fcb",
   "metadata": {},
   "outputs": [],
   "source": [
    "df1 = df.copy()"
   ]
  },
  {
   "cell_type": "code",
   "execution_count": 3,
   "id": "890122e9-ef11-4f05-ac5b-e69463cff51e",
   "metadata": {},
   "outputs": [
    {
     "data": {
      "text/plain": [
       "(6927, 22)"
      ]
     },
     "execution_count": 3,
     "metadata": {},
     "output_type": "execute_result"
    }
   ],
   "source": [
    "# Olhando o tamanho do DataFrame\n",
    "\n",
    "df1.shape"
   ]
  },
  {
   "cell_type": "code",
   "execution_count": 4,
   "id": "010526b0-91f0-4ece-ae63-4e87e4b3f424",
   "metadata": {},
   "outputs": [
    {
     "data": {
      "text/html": [
       "<div>\n",
       "<style scoped>\n",
       "    .dataframe tbody tr th:only-of-type {\n",
       "        vertical-align: middle;\n",
       "    }\n",
       "\n",
       "    .dataframe tbody tr th {\n",
       "        vertical-align: top;\n",
       "    }\n",
       "\n",
       "    .dataframe thead th {\n",
       "        text-align: right;\n",
       "    }\n",
       "</style>\n",
       "<table border=\"1\" class=\"dataframe\">\n",
       "  <thead>\n",
       "    <tr style=\"text-align: right;\">\n",
       "      <th></th>\n",
       "      <th>restaurant_id</th>\n",
       "      <th>restaurant_name</th>\n",
       "      <th>country</th>\n",
       "      <th>city</th>\n",
       "      <th>address</th>\n",
       "      <th>locality</th>\n",
       "      <th>locality_verbose</th>\n",
       "      <th>longitude</th>\n",
       "      <th>latitude</th>\n",
       "      <th>cuisines</th>\n",
       "      <th>price_type</th>\n",
       "      <th>average_cost_for_two</th>\n",
       "      <th>currency</th>\n",
       "      <th>has_table_booking</th>\n",
       "      <th>has_online_delivery</th>\n",
       "      <th>is_delivering_now</th>\n",
       "      <th>aggregate_rating</th>\n",
       "      <th>color_name</th>\n",
       "      <th>rating_color</th>\n",
       "      <th>rating_text</th>\n",
       "      <th>votes</th>\n",
       "      <th>price_in_dollar</th>\n",
       "    </tr>\n",
       "  </thead>\n",
       "  <tbody>\n",
       "    <tr>\n",
       "      <th>0</th>\n",
       "      <td>6310675</td>\n",
       "      <td>Mama Lou's Italian Kitchen</td>\n",
       "      <td>Philippines</td>\n",
       "      <td>Las Piñas City</td>\n",
       "      <td>Block 1, Lot 36, Tropical Avenue Corner Tropic...</td>\n",
       "      <td>BF International</td>\n",
       "      <td>BF International, Las Piñas City</td>\n",
       "      <td>121.009787</td>\n",
       "      <td>14.447615</td>\n",
       "      <td>Italian</td>\n",
       "      <td>expensive</td>\n",
       "      <td>1100</td>\n",
       "      <td>Botswana Pula(P)</td>\n",
       "      <td>1</td>\n",
       "      <td>0</td>\n",
       "      <td>0</td>\n",
       "      <td>4.6</td>\n",
       "      <td>darkgreen</td>\n",
       "      <td>3F7E00</td>\n",
       "      <td>Excellent</td>\n",
       "      <td>619</td>\n",
       "      <td>80.82</td>\n",
       "    </tr>\n",
       "    <tr>\n",
       "      <th>1</th>\n",
       "      <td>6314542</td>\n",
       "      <td>Blackbird</td>\n",
       "      <td>Philippines</td>\n",
       "      <td>Makati City</td>\n",
       "      <td>Nielson Tower, Ayala Triangle Gardens, Salcedo...</td>\n",
       "      <td>Ayala Triangle Gardens, Salcedo Village, Makat...</td>\n",
       "      <td>Ayala Triangle Gardens, Salcedo Village, Makat...</td>\n",
       "      <td>121.024562</td>\n",
       "      <td>14.556042</td>\n",
       "      <td>European</td>\n",
       "      <td>gourmet</td>\n",
       "      <td>3100</td>\n",
       "      <td>Botswana Pula(P)</td>\n",
       "      <td>0</td>\n",
       "      <td>0</td>\n",
       "      <td>0</td>\n",
       "      <td>4.7</td>\n",
       "      <td>darkgreen</td>\n",
       "      <td>3F7E00</td>\n",
       "      <td>Excellent</td>\n",
       "      <td>469</td>\n",
       "      <td>227.77</td>\n",
       "    </tr>\n",
       "    <tr>\n",
       "      <th>2</th>\n",
       "      <td>6301293</td>\n",
       "      <td>Banapple</td>\n",
       "      <td>Philippines</td>\n",
       "      <td>Makati City</td>\n",
       "      <td>Ayala Triangle Gardens, Salcedo Village, Makat...</td>\n",
       "      <td>Ayala Triangle Gardens, Salcedo Village, Makat...</td>\n",
       "      <td>Ayala Triangle Gardens, Salcedo Village, Makat...</td>\n",
       "      <td>121.023171</td>\n",
       "      <td>14.556196</td>\n",
       "      <td>Filipino</td>\n",
       "      <td>expensive</td>\n",
       "      <td>800</td>\n",
       "      <td>Botswana Pula(P)</td>\n",
       "      <td>0</td>\n",
       "      <td>0</td>\n",
       "      <td>0</td>\n",
       "      <td>4.4</td>\n",
       "      <td>green</td>\n",
       "      <td>5BA829</td>\n",
       "      <td>Very Good</td>\n",
       "      <td>867</td>\n",
       "      <td>58.78</td>\n",
       "    </tr>\n",
       "    <tr>\n",
       "      <th>3</th>\n",
       "      <td>6315689</td>\n",
       "      <td>Bad Bird</td>\n",
       "      <td>Philippines</td>\n",
       "      <td>Makati City</td>\n",
       "      <td>Hole In The Wall, Floor 4, Century City Mall, ...</td>\n",
       "      <td>Century City Mall, Poblacion, Makati City</td>\n",
       "      <td>Century City Mall, Poblacion, Makati City, Mak...</td>\n",
       "      <td>121.027708</td>\n",
       "      <td>14.565899</td>\n",
       "      <td>American</td>\n",
       "      <td>expensive</td>\n",
       "      <td>700</td>\n",
       "      <td>Botswana Pula(P)</td>\n",
       "      <td>0</td>\n",
       "      <td>0</td>\n",
       "      <td>0</td>\n",
       "      <td>4.4</td>\n",
       "      <td>green</td>\n",
       "      <td>5BA829</td>\n",
       "      <td>Very Good</td>\n",
       "      <td>858</td>\n",
       "      <td>51.43</td>\n",
       "    </tr>\n",
       "    <tr>\n",
       "      <th>4</th>\n",
       "      <td>6304833</td>\n",
       "      <td>Manam</td>\n",
       "      <td>Philippines</td>\n",
       "      <td>Makati City</td>\n",
       "      <td>Level 1, Greenbelt 2, Ayala Center, Greenbelt,...</td>\n",
       "      <td>Greenbelt 2, San Lorenzo, Makati City</td>\n",
       "      <td>Greenbelt 2, San Lorenzo, Makati City, Makati ...</td>\n",
       "      <td>121.020380</td>\n",
       "      <td>14.552351</td>\n",
       "      <td>Filipino</td>\n",
       "      <td>expensive</td>\n",
       "      <td>700</td>\n",
       "      <td>Botswana Pula(P)</td>\n",
       "      <td>0</td>\n",
       "      <td>0</td>\n",
       "      <td>0</td>\n",
       "      <td>4.7</td>\n",
       "      <td>darkgreen</td>\n",
       "      <td>3F7E00</td>\n",
       "      <td>Excellent</td>\n",
       "      <td>930</td>\n",
       "      <td>51.43</td>\n",
       "    </tr>\n",
       "  </tbody>\n",
       "</table>\n",
       "</div>"
      ],
      "text/plain": [
       "   restaurant_id             restaurant_name      country            city   \n",
       "0        6310675  Mama Lou's Italian Kitchen  Philippines  Las Piñas City  \\\n",
       "1        6314542                   Blackbird  Philippines     Makati City   \n",
       "2        6301293                    Banapple  Philippines     Makati City   \n",
       "3        6315689                    Bad Bird  Philippines     Makati City   \n",
       "4        6304833                       Manam  Philippines     Makati City   \n",
       "\n",
       "                                             address   \n",
       "0  Block 1, Lot 36, Tropical Avenue Corner Tropic...  \\\n",
       "1  Nielson Tower, Ayala Triangle Gardens, Salcedo...   \n",
       "2  Ayala Triangle Gardens, Salcedo Village, Makat...   \n",
       "3  Hole In The Wall, Floor 4, Century City Mall, ...   \n",
       "4  Level 1, Greenbelt 2, Ayala Center, Greenbelt,...   \n",
       "\n",
       "                                            locality   \n",
       "0                                   BF International  \\\n",
       "1  Ayala Triangle Gardens, Salcedo Village, Makat...   \n",
       "2  Ayala Triangle Gardens, Salcedo Village, Makat...   \n",
       "3          Century City Mall, Poblacion, Makati City   \n",
       "4              Greenbelt 2, San Lorenzo, Makati City   \n",
       "\n",
       "                                    locality_verbose   longitude   latitude   \n",
       "0                   BF International, Las Piñas City  121.009787  14.447615  \\\n",
       "1  Ayala Triangle Gardens, Salcedo Village, Makat...  121.024562  14.556042   \n",
       "2  Ayala Triangle Gardens, Salcedo Village, Makat...  121.023171  14.556196   \n",
       "3  Century City Mall, Poblacion, Makati City, Mak...  121.027708  14.565899   \n",
       "4  Greenbelt 2, San Lorenzo, Makati City, Makati ...  121.020380  14.552351   \n",
       "\n",
       "   cuisines price_type  average_cost_for_two          currency   \n",
       "0   Italian  expensive                  1100  Botswana Pula(P)  \\\n",
       "1  European    gourmet                  3100  Botswana Pula(P)   \n",
       "2  Filipino  expensive                   800  Botswana Pula(P)   \n",
       "3  American  expensive                   700  Botswana Pula(P)   \n",
       "4  Filipino  expensive                   700  Botswana Pula(P)   \n",
       "\n",
       "   has_table_booking  has_online_delivery  is_delivering_now   \n",
       "0                  1                    0                  0  \\\n",
       "1                  0                    0                  0   \n",
       "2                  0                    0                  0   \n",
       "3                  0                    0                  0   \n",
       "4                  0                    0                  0   \n",
       "\n",
       "   aggregate_rating color_name rating_color rating_text  votes   \n",
       "0               4.6  darkgreen       3F7E00   Excellent    619  \\\n",
       "1               4.7  darkgreen       3F7E00   Excellent    469   \n",
       "2               4.4      green       5BA829   Very Good    867   \n",
       "3               4.4      green       5BA829   Very Good    858   \n",
       "4               4.7  darkgreen       3F7E00   Excellent    930   \n",
       "\n",
       "   price_in_dollar  \n",
       "0            80.82  \n",
       "1           227.77  \n",
       "2            58.78  \n",
       "3            51.43  \n",
       "4            51.43  "
      ]
     },
     "execution_count": 4,
     "metadata": {},
     "output_type": "execute_result"
    }
   ],
   "source": [
    "df1.head(5)"
   ]
  },
  {
   "cell_type": "markdown",
   "id": "5b3db08c-e243-4732-a998-727322db94b7",
   "metadata": {
    "jp-MarkdownHeadingCollapsed": true,
    "tags": []
   },
   "source": [
    "# Geral"
   ]
  },
  {
   "cell_type": "markdown",
   "id": "b1ea9bbb-2151-4136-9448-6d7c7f4eb518",
   "metadata": {
    "tags": []
   },
   "source": [
    "##  1. Quantos restaurantes únicos estão registrados?\n",
    "## R: Estao registrados 6927 Restaurantes unicos }\n"
   ]
  },
  {
   "cell_type": "code",
   "execution_count": 5,
   "id": "672a1591-e93f-4be5-83d2-d5fe71714fcf",
   "metadata": {},
   "outputs": [
    {
     "data": {
      "text/plain": [
       "6927"
      ]
     },
     "execution_count": 5,
     "metadata": {},
     "output_type": "execute_result"
    }
   ],
   "source": [
    "unico = len(df1.loc[:,'restaurant_id'].unique())\n",
    "\n",
    "unico"
   ]
  },
  {
   "cell_type": "markdown",
   "id": "a8ed0836-bafd-4442-bf3d-cf5f45e6a373",
   "metadata": {
    "tags": []
   },
   "source": [
    "## 2. Quantos países únicos estão registrados?\n",
    "\n",
    "## R: 15 paises unicos estao registrado \n",
    "\n"
   ]
  },
  {
   "cell_type": "code",
   "execution_count": 6,
   "id": "985f8f25-084d-432c-adf8-ab038f0b2d15",
   "metadata": {},
   "outputs": [
    {
     "data": {
      "text/plain": [
       "(15,)"
      ]
     },
     "execution_count": 6,
     "metadata": {},
     "output_type": "execute_result"
    }
   ],
   "source": [
    "unico = (df1.loc[:,'country'].unique())\n",
    "\n",
    "unico.shape"
   ]
  },
  {
   "cell_type": "markdown",
   "id": "f136a4fe-80cc-4e31-84a9-4c646c99e37f",
   "metadata": {
    "tags": []
   },
   "source": [
    "## 3. Quantas cidades únicas estão registradas?\n",
    "## R: Estao Registradas 125 cidades unicas\n",
    "\n",
    "\n"
   ]
  },
  {
   "cell_type": "code",
   "execution_count": 7,
   "id": "f3aa7ad1-8ff8-49a4-8684-0d3757c264ce",
   "metadata": {},
   "outputs": [
    {
     "data": {
      "text/plain": [
       "(125,)"
      ]
     },
     "execution_count": 7,
     "metadata": {},
     "output_type": "execute_result"
    }
   ],
   "source": [
    "unico = (df1.loc[:,'city'].unique())\n",
    "unico.shape"
   ]
  },
  {
   "cell_type": "markdown",
   "id": "fde79af8-03ca-4887-b54e-dbed68e444c7",
   "metadata": {
    "tags": []
   },
   "source": [
    "## 4. Qual o total de avaliações feitas?\n",
    "\n",
    "## R: O total de avaliação feita foi de 4.194.530\n",
    "\n"
   ]
  },
  {
   "cell_type": "code",
   "execution_count": 8,
   "id": "c640fdde-238d-4c4c-82bf-3bef8563a760",
   "metadata": {},
   "outputs": [
    {
     "data": {
      "text/plain": [
       "4194530"
      ]
     },
     "execution_count": 8,
     "metadata": {},
     "output_type": "execute_result"
    }
   ],
   "source": [
    "total_votes = df1['votes'].sum()\n",
    "total_votes"
   ]
  },
  {
   "cell_type": "markdown",
   "id": "0609adf5-e523-432f-897e-be84779e74dd",
   "metadata": {
    "tags": []
   },
   "source": [
    "## 5. Qual o total de tipos de culinária registrados?\n",
    "## 163 Tipos de culinaria Registrados\n",
    "\n",
    "\n"
   ]
  },
  {
   "cell_type": "code",
   "execution_count": 9,
   "id": "34d109a0-c4f0-4c80-bce0-b8f3a095b8d6",
   "metadata": {},
   "outputs": [
    {
     "data": {
      "text/plain": [
       "(163,)"
      ]
     },
     "execution_count": 9,
     "metadata": {},
     "output_type": "execute_result"
    }
   ],
   "source": [
    "unico = (df1.loc[:,'cuisines'].unique())\n",
    "unico.shape"
   ]
  },
  {
   "cell_type": "markdown",
   "id": "28e329f0-667e-41f4-81fe-7e4e9b12c9d3",
   "metadata": {
    "jp-MarkdownHeadingCollapsed": true,
    "tags": []
   },
   "source": [
    "# Pais"
   ]
  },
  {
   "cell_type": "markdown",
   "id": "f6424cea-d8fd-4556-94d8-427e65c9a0d8",
   "metadata": {
    "tags": []
   },
   "source": [
    "## 1. Qual o nome do país que possui mais cidades registradas?\n",
    "\n",
    "## R: A India é o pais que possui mais cidads registradas\n"
   ]
  },
  {
   "cell_type": "code",
   "execution_count": 10,
   "id": "497d4e40-15a6-4566-9586-920ae5ecfcda",
   "metadata": {},
   "outputs": [
    {
     "data": {
      "text/html": [
       "<div>\n",
       "<style scoped>\n",
       "    .dataframe tbody tr th:only-of-type {\n",
       "        vertical-align: middle;\n",
       "    }\n",
       "\n",
       "    .dataframe tbody tr th {\n",
       "        vertical-align: top;\n",
       "    }\n",
       "\n",
       "    .dataframe thead th {\n",
       "        text-align: right;\n",
       "    }\n",
       "</style>\n",
       "<table border=\"1\" class=\"dataframe\">\n",
       "  <thead>\n",
       "    <tr style=\"text-align: right;\">\n",
       "      <th></th>\n",
       "      <th>country</th>\n",
       "      <th>city</th>\n",
       "    </tr>\n",
       "  </thead>\n",
       "  <tbody>\n",
       "    <tr>\n",
       "      <th>0</th>\n",
       "      <td>India</td>\n",
       "      <td>49</td>\n",
       "    </tr>\n",
       "    <tr>\n",
       "      <th>1</th>\n",
       "      <td>United States of America</td>\n",
       "      <td>22</td>\n",
       "    </tr>\n",
       "    <tr>\n",
       "      <th>2</th>\n",
       "      <td>Philippines</td>\n",
       "      <td>12</td>\n",
       "    </tr>\n",
       "  </tbody>\n",
       "</table>\n",
       "</div>"
      ],
      "text/plain": [
       "                    country  city\n",
       "0                     India    49\n",
       "1  United States of America    22\n",
       "2               Philippines    12"
      ]
     },
     "execution_count": 10,
     "metadata": {},
     "output_type": "execute_result"
    }
   ],
   "source": [
    "coluna = ['country', 'city']\n",
    "df1.loc[:, coluna].groupby(['country']).agg({'city': 'nunique'}).sort_values(by='city', ascending=False).head(3).reset_index()\n"
   ]
  },
  {
   "cell_type": "markdown",
   "id": "ce38a4a7-6019-4c21-bd05-6d63aa8fc402",
   "metadata": {
    "tags": []
   },
   "source": [
    "## 2. Qual o nome do país que possui mais restaurantes registrados?\n",
    "\n",
    "## A India é o pais com mais restaurante registrado\n"
   ]
  },
  {
   "cell_type": "code",
   "execution_count": 11,
   "id": "6e8577fe-f1c7-4095-9c91-ea15066bf5f8",
   "metadata": {},
   "outputs": [
    {
     "data": {
      "text/html": [
       "<div>\n",
       "<style scoped>\n",
       "    .dataframe tbody tr th:only-of-type {\n",
       "        vertical-align: middle;\n",
       "    }\n",
       "\n",
       "    .dataframe tbody tr th {\n",
       "        vertical-align: top;\n",
       "    }\n",
       "\n",
       "    .dataframe thead th {\n",
       "        text-align: right;\n",
       "    }\n",
       "</style>\n",
       "<table border=\"1\" class=\"dataframe\">\n",
       "  <thead>\n",
       "    <tr style=\"text-align: right;\">\n",
       "      <th></th>\n",
       "      <th>country</th>\n",
       "      <th>restaurant_id</th>\n",
       "    </tr>\n",
       "  </thead>\n",
       "  <tbody>\n",
       "    <tr>\n",
       "      <th>0</th>\n",
       "      <td>India</td>\n",
       "      <td>3111</td>\n",
       "    </tr>\n",
       "    <tr>\n",
       "      <th>1</th>\n",
       "      <td>United States of America</td>\n",
       "      <td>1374</td>\n",
       "    </tr>\n",
       "    <tr>\n",
       "      <th>2</th>\n",
       "      <td>England</td>\n",
       "      <td>400</td>\n",
       "    </tr>\n",
       "  </tbody>\n",
       "</table>\n",
       "</div>"
      ],
      "text/plain": [
       "                    country  restaurant_id\n",
       "0                     India           3111\n",
       "1  United States of America           1374\n",
       "2                   England            400"
      ]
     },
     "execution_count": 11,
     "metadata": {},
     "output_type": "execute_result"
    }
   ],
   "source": [
    "coluna = ['restaurant_id', 'country']\n",
    "df1.loc[:, coluna].groupby( ['country'] ).agg({'restaurant_id': 'count'}).sort_values(by='restaurant_id', ascending=False).head(3).reset_index()"
   ]
  },
  {
   "cell_type": "markdown",
   "id": "8ab5ec4b-36e9-4212-84fc-37aac297918c",
   "metadata": {
    "tags": []
   },
   "source": [
    "## 3. Qual o nome do país que possui mais restaurantes com o nível de preço igual a 4 registrados?\n",
    "\n",
    "## O pais com mais restaurante de nivel de preço igual a 4 é o United States of America\t"
   ]
  },
  {
   "cell_type": "code",
   "execution_count": 12,
   "id": "00c282a7-9466-4e55-a93f-2c61f28b48eb",
   "metadata": {},
   "outputs": [
    {
     "data": {
      "text/html": [
       "<div>\n",
       "<style scoped>\n",
       "    .dataframe tbody tr th:only-of-type {\n",
       "        vertical-align: middle;\n",
       "    }\n",
       "\n",
       "    .dataframe tbody tr th {\n",
       "        vertical-align: top;\n",
       "    }\n",
       "\n",
       "    .dataframe thead th {\n",
       "        text-align: right;\n",
       "    }\n",
       "</style>\n",
       "<table border=\"1\" class=\"dataframe\">\n",
       "  <thead>\n",
       "    <tr style=\"text-align: right;\">\n",
       "      <th></th>\n",
       "      <th>country</th>\n",
       "      <th>price_type</th>\n",
       "      <th>restaurant_id</th>\n",
       "    </tr>\n",
       "  </thead>\n",
       "  <tbody>\n",
       "    <tr>\n",
       "      <th>0</th>\n",
       "      <td>United States of America</td>\n",
       "      <td>gourmet</td>\n",
       "      <td>415</td>\n",
       "    </tr>\n",
       "    <tr>\n",
       "      <th>1</th>\n",
       "      <td>South Africa</td>\n",
       "      <td>gourmet</td>\n",
       "      <td>220</td>\n",
       "    </tr>\n",
       "    <tr>\n",
       "      <th>2</th>\n",
       "      <td>India</td>\n",
       "      <td>gourmet</td>\n",
       "      <td>195</td>\n",
       "    </tr>\n",
       "  </tbody>\n",
       "</table>\n",
       "</div>"
      ],
      "text/plain": [
       "                    country price_type  restaurant_id\n",
       "0  United States of America    gourmet            415\n",
       "1              South Africa    gourmet            220\n",
       "2                     India    gourmet            195"
      ]
     },
     "execution_count": 12,
     "metadata": {},
     "output_type": "execute_result"
    }
   ],
   "source": [
    "coluna = ['restaurant_id', 'country', 'price_type']\n",
    "df1.loc[df1['price_type'] == 'gourmet', coluna].groupby(['country', 'price_type']).agg( {'restaurant_id': 'count' }).sort_values(by='restaurant_id', ascending=False).head(3).reset_index()"
   ]
  },
  {
   "cell_type": "markdown",
   "id": "ee52c84d-a4bd-400d-bd99-da86e4e2a5b8",
   "metadata": {
    "tags": []
   },
   "source": [
    "## 4. Qual o nome do país que possui a maior quantidade de tipos de culinária distintos?\n",
    "\n",
    "## R: India com 77 tipos de culinaria distintos\n"
   ]
  },
  {
   "cell_type": "code",
   "execution_count": 13,
   "id": "486f926c-6828-4350-825b-9f17d9a0afc8",
   "metadata": {},
   "outputs": [
    {
     "data": {
      "text/html": [
       "<div>\n",
       "<style scoped>\n",
       "    .dataframe tbody tr th:only-of-type {\n",
       "        vertical-align: middle;\n",
       "    }\n",
       "\n",
       "    .dataframe tbody tr th {\n",
       "        vertical-align: top;\n",
       "    }\n",
       "\n",
       "    .dataframe thead th {\n",
       "        text-align: right;\n",
       "    }\n",
       "</style>\n",
       "<table border=\"1\" class=\"dataframe\">\n",
       "  <thead>\n",
       "    <tr style=\"text-align: right;\">\n",
       "      <th></th>\n",
       "      <th>country</th>\n",
       "      <th>cuisines</th>\n",
       "      <th>unique_cuisines</th>\n",
       "    </tr>\n",
       "  </thead>\n",
       "  <tbody>\n",
       "    <tr>\n",
       "      <th>4</th>\n",
       "      <td>India</td>\n",
       "      <td>[Pizza, North Indian, Street Food, North India...</td>\n",
       "      <td>77</td>\n",
       "    </tr>\n",
       "    <tr>\n",
       "      <th>14</th>\n",
       "      <td>United States of America</td>\n",
       "      <td>[Seafood, Mexican, American, Steak, Pizza, Ste...</td>\n",
       "      <td>74</td>\n",
       "    </tr>\n",
       "    <tr>\n",
       "      <th>3</th>\n",
       "      <td>England</td>\n",
       "      <td>[Indian, Fast Food, Chinese, Latin American, C...</td>\n",
       "      <td>52</td>\n",
       "    </tr>\n",
       "    <tr>\n",
       "      <th>13</th>\n",
       "      <td>United Arab Emirates</td>\n",
       "      <td>[American, Burger, Cafe, Italian, Mandi, Turki...</td>\n",
       "      <td>46</td>\n",
       "    </tr>\n",
       "    <tr>\n",
       "      <th>0</th>\n",
       "      <td>Australia</td>\n",
       "      <td>[Vietnamese, Korean, Vietnamese, Modern Austra...</td>\n",
       "      <td>43</td>\n",
       "    </tr>\n",
       "  </tbody>\n",
       "</table>\n",
       "</div>"
      ],
      "text/plain": [
       "                     country   \n",
       "4                      India  \\\n",
       "14  United States of America   \n",
       "3                    England   \n",
       "13      United Arab Emirates   \n",
       "0                  Australia   \n",
       "\n",
       "                                             cuisines  unique_cuisines  \n",
       "4   [Pizza, North Indian, Street Food, North India...               77  \n",
       "14  [Seafood, Mexican, American, Steak, Pizza, Ste...               74  \n",
       "3   [Indian, Fast Food, Chinese, Latin American, C...               52  \n",
       "13  [American, Burger, Cafe, Italian, Mandi, Turki...               46  \n",
       "0   [Vietnamese, Korean, Vietnamese, Modern Austra...               43  "
      ]
     },
     "execution_count": 13,
     "metadata": {},
     "output_type": "execute_result"
    }
   ],
   "source": [
    "#Colocando as diferentes culinárias em uma lista única para cada país\n",
    "df_country_cuisines = df1.groupby('country')['cuisines'].apply(list).reset_index()\n",
    "\n",
    "# contando o número de elementos únicos em cada lista de culinárias \n",
    "df_country_cuisines['unique_cuisines'] = df_country_cuisines['cuisines'].apply(lambda x: len(set(x)))\n",
    "\n",
    "# Classificando o resultado em ordem decrescente de número de tipos de culinária distintos\n",
    "df_country_cuisines.sort_values('unique_cuisines', ascending=False).head(5)"
   ]
  },
  {
   "cell_type": "markdown",
   "id": "f3cda8d4-8f90-49f5-abe4-af78ccdfd6f6",
   "metadata": {
    "tags": []
   },
   "source": [
    "## 5. Qual o nome do país que possui a maior quantidade de avaliações feitas?\n",
    "## India com  2.800.164 Avaliações feitas\n"
   ]
  },
  {
   "cell_type": "code",
   "execution_count": 14,
   "id": "5c83899a-99d4-4b90-9f68-965d2b4fa25d",
   "metadata": {},
   "outputs": [
    {
     "data": {
      "text/html": [
       "<div>\n",
       "<style scoped>\n",
       "    .dataframe tbody tr th:only-of-type {\n",
       "        vertical-align: middle;\n",
       "    }\n",
       "\n",
       "    .dataframe tbody tr th {\n",
       "        vertical-align: top;\n",
       "    }\n",
       "\n",
       "    .dataframe thead th {\n",
       "        text-align: right;\n",
       "    }\n",
       "</style>\n",
       "<table border=\"1\" class=\"dataframe\">\n",
       "  <thead>\n",
       "    <tr style=\"text-align: right;\">\n",
       "      <th></th>\n",
       "      <th>country</th>\n",
       "      <th>votes</th>\n",
       "    </tr>\n",
       "  </thead>\n",
       "  <tbody>\n",
       "    <tr>\n",
       "      <th>0</th>\n",
       "      <td>India</td>\n",
       "      <td>2800164</td>\n",
       "    </tr>\n",
       "    <tr>\n",
       "      <th>1</th>\n",
       "      <td>United States of America</td>\n",
       "      <td>522348</td>\n",
       "    </tr>\n",
       "    <tr>\n",
       "      <th>2</th>\n",
       "      <td>United Arab Emirates</td>\n",
       "      <td>177564</td>\n",
       "    </tr>\n",
       "  </tbody>\n",
       "</table>\n",
       "</div>"
      ],
      "text/plain": [
       "                    country    votes\n",
       "0                     India  2800164\n",
       "1  United States of America   522348\n",
       "2      United Arab Emirates   177564"
      ]
     },
     "execution_count": 14,
     "metadata": {},
     "output_type": "execute_result"
    }
   ],
   "source": [
    "coluna = ['country', 'votes']\n",
    "df1.loc[:, coluna].groupby(['country']).sum().sort_values(by='votes', ascending=False).head(3).reset_index()"
   ]
  },
  {
   "cell_type": "markdown",
   "id": "8caf2488-c9dd-417e-a907-af847acb77b8",
   "metadata": {
    "tags": []
   },
   "source": [
    "## 6. Qual o nome do país que possui a maior quantidade de restaurantes que fazem entrega?\n",
    "## R: India \n"
   ]
  },
  {
   "cell_type": "code",
   "execution_count": 15,
   "id": "9ce066ba-a896-487d-ac42-c74684ad5b48",
   "metadata": {},
   "outputs": [
    {
     "data": {
      "text/html": [
       "<div>\n",
       "<style scoped>\n",
       "    .dataframe tbody tr th:only-of-type {\n",
       "        vertical-align: middle;\n",
       "    }\n",
       "\n",
       "    .dataframe tbody tr th {\n",
       "        vertical-align: top;\n",
       "    }\n",
       "\n",
       "    .dataframe thead th {\n",
       "        text-align: right;\n",
       "    }\n",
       "</style>\n",
       "<table border=\"1\" class=\"dataframe\">\n",
       "  <thead>\n",
       "    <tr style=\"text-align: right;\">\n",
       "      <th></th>\n",
       "      <th>country</th>\n",
       "      <th>has_online_delivery</th>\n",
       "    </tr>\n",
       "  </thead>\n",
       "  <tbody>\n",
       "    <tr>\n",
       "      <th>0</th>\n",
       "      <td>India</td>\n",
       "      <td>2177</td>\n",
       "    </tr>\n",
       "    <tr>\n",
       "      <th>1</th>\n",
       "      <td>United Arab Emirates</td>\n",
       "      <td>205</td>\n",
       "    </tr>\n",
       "    <tr>\n",
       "      <th>2</th>\n",
       "      <td>Qatar</td>\n",
       "      <td>37</td>\n",
       "    </tr>\n",
       "    <tr>\n",
       "      <th>3</th>\n",
       "      <td>Philippines</td>\n",
       "      <td>9</td>\n",
       "    </tr>\n",
       "  </tbody>\n",
       "</table>\n",
       "</div>"
      ],
      "text/plain": [
       "                country  has_online_delivery\n",
       "0                 India                 2177\n",
       "1  United Arab Emirates                  205\n",
       "2                 Qatar                   37\n",
       "3           Philippines                    9"
      ]
     },
     "execution_count": 15,
     "metadata": {},
     "output_type": "execute_result"
    }
   ],
   "source": [
    "coluna = ['country', 'has_online_delivery']\n",
    "df1.loc[df1['has_online_delivery'] == 1, coluna].groupby(['country']).count().sort_values(by='has_online_delivery', ascending=False).head().reset_index()"
   ]
  },
  {
   "cell_type": "markdown",
   "id": "d4f58aee-0d15-435f-b73a-b326baf90e9c",
   "metadata": {
    "tags": []
   },
   "source": [
    "## 7. Qual o nome do país que possui a maior quantidade de restaurantes que aceitam reservas?\n",
    "## R: India com 256 restaurantes que aceitam reservas \n"
   ]
  },
  {
   "cell_type": "code",
   "execution_count": 16,
   "id": "e3ba211e-258d-4cf5-9ac0-c96437193bc0",
   "metadata": {},
   "outputs": [
    {
     "data": {
      "text/html": [
       "<div>\n",
       "<style scoped>\n",
       "    .dataframe tbody tr th:only-of-type {\n",
       "        vertical-align: middle;\n",
       "    }\n",
       "\n",
       "    .dataframe tbody tr th {\n",
       "        vertical-align: top;\n",
       "    }\n",
       "\n",
       "    .dataframe thead th {\n",
       "        text-align: right;\n",
       "    }\n",
       "</style>\n",
       "<table border=\"1\" class=\"dataframe\">\n",
       "  <thead>\n",
       "    <tr style=\"text-align: right;\">\n",
       "      <th></th>\n",
       "      <th>country</th>\n",
       "      <th>has_table_booking</th>\n",
       "    </tr>\n",
       "  </thead>\n",
       "  <tbody>\n",
       "    <tr>\n",
       "      <th>0</th>\n",
       "      <td>India</td>\n",
       "      <td>256</td>\n",
       "    </tr>\n",
       "    <tr>\n",
       "      <th>1</th>\n",
       "      <td>England</td>\n",
       "      <td>55</td>\n",
       "    </tr>\n",
       "    <tr>\n",
       "      <th>2</th>\n",
       "      <td>Australia</td>\n",
       "      <td>29</td>\n",
       "    </tr>\n",
       "    <tr>\n",
       "      <th>3</th>\n",
       "      <td>Philippines</td>\n",
       "      <td>22</td>\n",
       "    </tr>\n",
       "    <tr>\n",
       "      <th>4</th>\n",
       "      <td>New Zeland</td>\n",
       "      <td>19</td>\n",
       "    </tr>\n",
       "  </tbody>\n",
       "</table>\n",
       "</div>"
      ],
      "text/plain": [
       "       country  has_table_booking\n",
       "0        India                256\n",
       "1      England                 55\n",
       "2    Australia                 29\n",
       "3  Philippines                 22\n",
       "4   New Zeland                 19"
      ]
     },
     "execution_count": 16,
     "metadata": {},
     "output_type": "execute_result"
    }
   ],
   "source": [
    "coluna = ['country', 'has_table_booking']\n",
    "df1.loc[df1['has_table_booking'] == 1, coluna].groupby(['country']).count().sort_values(by='has_table_booking', ascending=False).head().reset_index()"
   ]
  },
  {
   "cell_type": "markdown",
   "id": "8a913188-f5ab-4160-956e-74af8665f2ba",
   "metadata": {
    "tags": []
   },
   "source": [
    "## 8. Qual o nome do país que possui, na média, a maior quantidade de avaliações registrada?\n",
    "\n",
    "## R: Indonesia Tem a maior media de avaliação "
   ]
  },
  {
   "cell_type": "code",
   "execution_count": 17,
   "id": "c76b25de-6420-46db-93ce-e45a2d9fa5cc",
   "metadata": {},
   "outputs": [
    {
     "data": {
      "text/html": [
       "<div>\n",
       "<style scoped>\n",
       "    .dataframe tbody tr th:only-of-type {\n",
       "        vertical-align: middle;\n",
       "    }\n",
       "\n",
       "    .dataframe tbody tr th {\n",
       "        vertical-align: top;\n",
       "    }\n",
       "\n",
       "    .dataframe thead th {\n",
       "        text-align: right;\n",
       "    }\n",
       "</style>\n",
       "<table border=\"1\" class=\"dataframe\">\n",
       "  <thead>\n",
       "    <tr style=\"text-align: right;\">\n",
       "      <th></th>\n",
       "      <th>country</th>\n",
       "      <th>votes</th>\n",
       "    </tr>\n",
       "  </thead>\n",
       "  <tbody>\n",
       "    <tr>\n",
       "      <th>0</th>\n",
       "      <td>Indonesia</td>\n",
       "      <td>1112.825000</td>\n",
       "    </tr>\n",
       "    <tr>\n",
       "      <th>1</th>\n",
       "      <td>India</td>\n",
       "      <td>900.084860</td>\n",
       "    </tr>\n",
       "    <tr>\n",
       "      <th>2</th>\n",
       "      <td>Australia</td>\n",
       "      <td>724.205556</td>\n",
       "    </tr>\n",
       "  </tbody>\n",
       "</table>\n",
       "</div>"
      ],
      "text/plain": [
       "     country        votes\n",
       "0  Indonesia  1112.825000\n",
       "1      India   900.084860\n",
       "2  Australia   724.205556"
      ]
     },
     "execution_count": 17,
     "metadata": {},
     "output_type": "execute_result"
    }
   ],
   "source": [
    "coluna = ['country', 'votes']\n",
    "df1.loc[:, coluna].groupby(['country']).mean().sort_values(by='votes', ascending=False).head(3).reset_index()\n"
   ]
  },
  {
   "cell_type": "markdown",
   "id": "2dc5bf22-b95b-4b70-8e9e-78bab266f382",
   "metadata": {
    "tags": []
   },
   "source": [
    "## 9. Qual o nome do país que possui, na média, a maior nota média registrada?\n",
    "\n",
    "## Indonesia possui a manior nota media registrada, 4,6"
   ]
  },
  {
   "cell_type": "code",
   "execution_count": 18,
   "id": "f14c759a-4364-4b95-9a64-e006ab542f65",
   "metadata": {},
   "outputs": [
    {
     "data": {
      "text/html": [
       "<div>\n",
       "<style scoped>\n",
       "    .dataframe tbody tr th:only-of-type {\n",
       "        vertical-align: middle;\n",
       "    }\n",
       "\n",
       "    .dataframe tbody tr th {\n",
       "        vertical-align: top;\n",
       "    }\n",
       "\n",
       "    .dataframe thead th {\n",
       "        text-align: right;\n",
       "    }\n",
       "</style>\n",
       "<table border=\"1\" class=\"dataframe\">\n",
       "  <thead>\n",
       "    <tr style=\"text-align: right;\">\n",
       "      <th></th>\n",
       "      <th>country</th>\n",
       "      <th>aggregate_rating</th>\n",
       "    </tr>\n",
       "  </thead>\n",
       "  <tbody>\n",
       "    <tr>\n",
       "      <th>0</th>\n",
       "      <td>Indonesia</td>\n",
       "      <td>4.60125</td>\n",
       "    </tr>\n",
       "    <tr>\n",
       "      <th>1</th>\n",
       "      <td>Philippines</td>\n",
       "      <td>4.46375</td>\n",
       "    </tr>\n",
       "    <tr>\n",
       "      <th>2</th>\n",
       "      <td>Singapure</td>\n",
       "      <td>4.43500</td>\n",
       "    </tr>\n",
       "  </tbody>\n",
       "</table>\n",
       "</div>"
      ],
      "text/plain": [
       "       country  aggregate_rating\n",
       "0    Indonesia           4.60125\n",
       "1  Philippines           4.46375\n",
       "2    Singapure           4.43500"
      ]
     },
     "execution_count": 18,
     "metadata": {},
     "output_type": "execute_result"
    }
   ],
   "source": [
    "coluna = ['country', 'aggregate_rating']\n",
    "df1.loc[:, coluna].groupby(['country']).mean().sort_values(by='aggregate_rating', ascending=False).head(3).reset_index()"
   ]
  },
  {
   "cell_type": "markdown",
   "id": "b5a4b9da-1cd5-4d24-b619-02552bb4158e",
   "metadata": {
    "tags": []
   },
   "source": [
    "## 10. Qual o nome do país que possui, na média, a menor nota média registrada?\n",
    "\n",
    "## Brazil com 3,33"
   ]
  },
  {
   "cell_type": "code",
   "execution_count": 19,
   "id": "01d6bcb1-e02b-4f8e-b293-451beb8789d7",
   "metadata": {},
   "outputs": [
    {
     "data": {
      "text/html": [
       "<div>\n",
       "<style scoped>\n",
       "    .dataframe tbody tr th:only-of-type {\n",
       "        vertical-align: middle;\n",
       "    }\n",
       "\n",
       "    .dataframe tbody tr th {\n",
       "        vertical-align: top;\n",
       "    }\n",
       "\n",
       "    .dataframe thead th {\n",
       "        text-align: right;\n",
       "    }\n",
       "</style>\n",
       "<table border=\"1\" class=\"dataframe\">\n",
       "  <thead>\n",
       "    <tr style=\"text-align: right;\">\n",
       "      <th></th>\n",
       "      <th>country</th>\n",
       "      <th>aggregate_rating</th>\n",
       "    </tr>\n",
       "  </thead>\n",
       "  <tbody>\n",
       "    <tr>\n",
       "      <th>0</th>\n",
       "      <td>Brazil</td>\n",
       "      <td>3.335565</td>\n",
       "    </tr>\n",
       "    <tr>\n",
       "      <th>1</th>\n",
       "      <td>United Arab Emirates</td>\n",
       "      <td>4.023667</td>\n",
       "    </tr>\n",
       "    <tr>\n",
       "      <th>2</th>\n",
       "      <td>India</td>\n",
       "      <td>4.037126</td>\n",
       "    </tr>\n",
       "  </tbody>\n",
       "</table>\n",
       "</div>"
      ],
      "text/plain": [
       "                country  aggregate_rating\n",
       "0                Brazil          3.335565\n",
       "1  United Arab Emirates          4.023667\n",
       "2                 India          4.037126"
      ]
     },
     "execution_count": 19,
     "metadata": {},
     "output_type": "execute_result"
    }
   ],
   "source": [
    "coluna = ['country', 'aggregate_rating']\n",
    "df1.loc[:, coluna].groupby(['country']).mean().sort_values(by='aggregate_rating', ascending=True).head(3).reset_index()"
   ]
  },
  {
   "cell_type": "markdown",
   "id": "fa4e54df-4b6b-4bc7-91cf-f04a78785a3d",
   "metadata": {
    "tags": []
   },
   "source": [
    "## 11. Qual a média de preço de um prato para dois por país?\n"
   ]
  },
  {
   "cell_type": "code",
   "execution_count": 21,
   "id": "aaca82f2-0ee1-496c-ab28-8171efbfa487",
   "metadata": {},
   "outputs": [
    {
     "data": {
      "text/html": [
       "<div>\n",
       "<style scoped>\n",
       "    .dataframe tbody tr th:only-of-type {\n",
       "        vertical-align: middle;\n",
       "    }\n",
       "\n",
       "    .dataframe tbody tr th {\n",
       "        vertical-align: top;\n",
       "    }\n",
       "\n",
       "    .dataframe thead th {\n",
       "        text-align: right;\n",
       "    }\n",
       "</style>\n",
       "<table border=\"1\" class=\"dataframe\">\n",
       "  <thead>\n",
       "    <tr style=\"text-align: right;\">\n",
       "      <th></th>\n",
       "      <th>country</th>\n",
       "      <th>price_in_dollar</th>\n",
       "    </tr>\n",
       "  </thead>\n",
       "  <tbody>\n",
       "    <tr>\n",
       "      <th>0</th>\n",
       "      <td>Singapure</td>\n",
       "      <td>141.44</td>\n",
       "    </tr>\n",
       "    <tr>\n",
       "      <th>1</th>\n",
       "      <td>Philippines</td>\n",
       "      <td>90.21</td>\n",
       "    </tr>\n",
       "    <tr>\n",
       "      <th>2</th>\n",
       "      <td>Australia</td>\n",
       "      <td>71.83</td>\n",
       "    </tr>\n",
       "    <tr>\n",
       "      <th>3</th>\n",
       "      <td>United States of America</td>\n",
       "      <td>55.03</td>\n",
       "    </tr>\n",
       "    <tr>\n",
       "      <th>4</th>\n",
       "      <td>England</td>\n",
       "      <td>54.39</td>\n",
       "    </tr>\n",
       "    <tr>\n",
       "      <th>5</th>\n",
       "      <td>Qatar</td>\n",
       "      <td>47.80</td>\n",
       "    </tr>\n",
       "    <tr>\n",
       "      <th>6</th>\n",
       "      <td>United Arab Emirates</td>\n",
       "      <td>41.88</td>\n",
       "    </tr>\n",
       "    <tr>\n",
       "      <th>7</th>\n",
       "      <td>Canada</td>\n",
       "      <td>41.86</td>\n",
       "    </tr>\n",
       "    <tr>\n",
       "      <th>8</th>\n",
       "      <td>New Zeland</td>\n",
       "      <td>38.37</td>\n",
       "    </tr>\n",
       "    <tr>\n",
       "      <th>9</th>\n",
       "      <td>Brazil</td>\n",
       "      <td>28.05</td>\n",
       "    </tr>\n",
       "    <tr>\n",
       "      <th>10</th>\n",
       "      <td>Indonesia</td>\n",
       "      <td>20.34</td>\n",
       "    </tr>\n",
       "    <tr>\n",
       "      <th>11</th>\n",
       "      <td>South Africa</td>\n",
       "      <td>17.68</td>\n",
       "    </tr>\n",
       "    <tr>\n",
       "      <th>12</th>\n",
       "      <td>India</td>\n",
       "      <td>8.51</td>\n",
       "    </tr>\n",
       "    <tr>\n",
       "      <th>13</th>\n",
       "      <td>Sri Lanka</td>\n",
       "      <td>8.46</td>\n",
       "    </tr>\n",
       "    <tr>\n",
       "      <th>14</th>\n",
       "      <td>Turkey</td>\n",
       "      <td>6.47</td>\n",
       "    </tr>\n",
       "  </tbody>\n",
       "</table>\n",
       "</div>"
      ],
      "text/plain": [
       "                     country  price_in_dollar\n",
       "0                  Singapure           141.44\n",
       "1                Philippines            90.21\n",
       "2                  Australia            71.83\n",
       "3   United States of America            55.03\n",
       "4                    England            54.39\n",
       "5                      Qatar            47.80\n",
       "6       United Arab Emirates            41.88\n",
       "7                     Canada            41.86\n",
       "8                 New Zeland            38.37\n",
       "9                     Brazil            28.05\n",
       "10                 Indonesia            20.34\n",
       "11              South Africa            17.68\n",
       "12                     India             8.51\n",
       "13                 Sri Lanka             8.46\n",
       "14                    Turkey             6.47"
      ]
     },
     "execution_count": 21,
     "metadata": {},
     "output_type": "execute_result"
    }
   ],
   "source": [
    "coluna = ['country', 'price_in_dollar']\n",
    "df1.loc[:, coluna].groupby(['country']).mean().sort_values(by='price_in_dollar', ascending=False).reset_index().round({'price_in_dollar': 2})"
   ]
  },
  {
   "cell_type": "markdown",
   "id": "c6a3687b-60a8-4fa2-96a3-a0c91d892c55",
   "metadata": {
    "tags": []
   },
   "source": [
    "# Cidade"
   ]
  },
  {
   "cell_type": "markdown",
   "id": "a68e8217-12a4-40b0-925c-1ce391086d88",
   "metadata": {},
   "source": [
    "## 1. Qual o nome da cidade que possui mais restaurantes registrados?\n",
    "\n",
    "## R: Abu Dhabi\té a cidade com mais restaurante registrado"
   ]
  },
  {
   "cell_type": "code",
   "execution_count": 23,
   "id": "e30bad94-a91a-4105-88f4-c7bf5399a407",
   "metadata": {},
   "outputs": [
    {
     "data": {
      "text/html": [
       "<div>\n",
       "<style scoped>\n",
       "    .dataframe tbody tr th:only-of-type {\n",
       "        vertical-align: middle;\n",
       "    }\n",
       "\n",
       "    .dataframe tbody tr th {\n",
       "        vertical-align: top;\n",
       "    }\n",
       "\n",
       "    .dataframe thead th {\n",
       "        text-align: right;\n",
       "    }\n",
       "</style>\n",
       "<table border=\"1\" class=\"dataframe\">\n",
       "  <thead>\n",
       "    <tr style=\"text-align: right;\">\n",
       "      <th></th>\n",
       "      <th>city</th>\n",
       "      <th>country</th>\n",
       "      <th>restaurant_id</th>\n",
       "    </tr>\n",
       "  </thead>\n",
       "  <tbody>\n",
       "    <tr>\n",
       "      <th>0</th>\n",
       "      <td>Abu Dhabi</td>\n",
       "      <td>United Arab Emirates</td>\n",
       "      <td>80</td>\n",
       "    </tr>\n",
       "    <tr>\n",
       "      <th>1</th>\n",
       "      <td>Mangalore</td>\n",
       "      <td>India</td>\n",
       "      <td>80</td>\n",
       "    </tr>\n",
       "    <tr>\n",
       "      <th>2</th>\n",
       "      <td>Edinburgh</td>\n",
       "      <td>England</td>\n",
       "      <td>80</td>\n",
       "    </tr>\n",
       "    <tr>\n",
       "      <th>3</th>\n",
       "      <td>Glasgow</td>\n",
       "      <td>England</td>\n",
       "      <td>80</td>\n",
       "    </tr>\n",
       "    <tr>\n",
       "      <th>4</th>\n",
       "      <td>Goa</td>\n",
       "      <td>India</td>\n",
       "      <td>80</td>\n",
       "    </tr>\n",
       "    <tr>\n",
       "      <th>5</th>\n",
       "      <td>Guwahati</td>\n",
       "      <td>India</td>\n",
       "      <td>80</td>\n",
       "    </tr>\n",
       "    <tr>\n",
       "      <th>6</th>\n",
       "      <td>Hamilton</td>\n",
       "      <td>New Zeland</td>\n",
       "      <td>80</td>\n",
       "    </tr>\n",
       "    <tr>\n",
       "      <th>7</th>\n",
       "      <td>Houston</td>\n",
       "      <td>United States of America</td>\n",
       "      <td>80</td>\n",
       "    </tr>\n",
       "    <tr>\n",
       "      <th>8</th>\n",
       "      <td>Indore</td>\n",
       "      <td>India</td>\n",
       "      <td>80</td>\n",
       "    </tr>\n",
       "    <tr>\n",
       "      <th>9</th>\n",
       "      <td>Jaipur</td>\n",
       "      <td>India</td>\n",
       "      <td>80</td>\n",
       "    </tr>\n",
       "  </tbody>\n",
       "</table>\n",
       "</div>"
      ],
      "text/plain": [
       "        city                   country  restaurant_id\n",
       "0  Abu Dhabi      United Arab Emirates             80\n",
       "1  Mangalore                     India             80\n",
       "2  Edinburgh                   England             80\n",
       "3    Glasgow                   England             80\n",
       "4        Goa                     India             80\n",
       "5   Guwahati                     India             80\n",
       "6   Hamilton                New Zeland             80\n",
       "7    Houston  United States of America             80\n",
       "8     Indore                     India             80\n",
       "9     Jaipur                     India             80"
      ]
     },
     "execution_count": 23,
     "metadata": {},
     "output_type": "execute_result"
    }
   ],
   "source": [
    "coluna = ['restaurant_id', 'country', 'city']\n",
    "df1.loc[:, coluna].groupby(['city', 'country']).count().sort_values(by='restaurant_id', ascending=False).head(10).reset_index()"
   ]
  },
  {
   "cell_type": "markdown",
   "id": "f63e7651-1b63-46f8-aef9-a07aa2cc6770",
   "metadata": {},
   "source": [
    "## 2. Qual o nome da cidade que possui mais restaurantes com nota média acima de 4?\n",
    "\n",
    "## R: Bangalore è a cidade com mais restaurantes com nota media acima de 4"
   ]
  },
  {
   "cell_type": "code",
   "execution_count": 28,
   "id": "29794c5b-f484-4c29-835e-c1c5f7e34909",
   "metadata": {},
   "outputs": [
    {
     "data": {
      "text/html": [
       "<div>\n",
       "<style scoped>\n",
       "    .dataframe tbody tr th:only-of-type {\n",
       "        vertical-align: middle;\n",
       "    }\n",
       "\n",
       "    .dataframe tbody tr th {\n",
       "        vertical-align: top;\n",
       "    }\n",
       "\n",
       "    .dataframe thead th {\n",
       "        text-align: right;\n",
       "    }\n",
       "</style>\n",
       "<table border=\"1\" class=\"dataframe\">\n",
       "  <thead>\n",
       "    <tr style=\"text-align: right;\">\n",
       "      <th></th>\n",
       "      <th>city</th>\n",
       "      <th>count</th>\n",
       "    </tr>\n",
       "  </thead>\n",
       "  <tbody>\n",
       "    <tr>\n",
       "      <th>0</th>\n",
       "      <td>Bangalore</td>\n",
       "      <td>79</td>\n",
       "    </tr>\n",
       "    <tr>\n",
       "      <th>1</th>\n",
       "      <td>London</td>\n",
       "      <td>78</td>\n",
       "    </tr>\n",
       "    <tr>\n",
       "      <th>2</th>\n",
       "      <td>Houston</td>\n",
       "      <td>75</td>\n",
       "    </tr>\n",
       "    <tr>\n",
       "      <th>3</th>\n",
       "      <td>Jakarta</td>\n",
       "      <td>74</td>\n",
       "    </tr>\n",
       "    <tr>\n",
       "      <th>4</th>\n",
       "      <td>Chennai</td>\n",
       "      <td>72</td>\n",
       "    </tr>\n",
       "    <tr>\n",
       "      <th>5</th>\n",
       "      <td>Auckland</td>\n",
       "      <td>72</td>\n",
       "    </tr>\n",
       "    <tr>\n",
       "      <th>6</th>\n",
       "      <td>Kolkata</td>\n",
       "      <td>70</td>\n",
       "    </tr>\n",
       "  </tbody>\n",
       "</table>\n",
       "</div>"
      ],
      "text/plain": [
       "        city  count\n",
       "0  Bangalore     79\n",
       "1     London     78\n",
       "2    Houston     75\n",
       "3    Jakarta     74\n",
       "4    Chennai     72\n",
       "5   Auckland     72\n",
       "6    Kolkata     70"
      ]
     },
     "execution_count": 28,
     "metadata": {},
     "output_type": "execute_result"
    }
   ],
   "source": [
    "coluna = ['city', 'aggregate_rating']\n",
    "df1.loc[df1['aggregate_rating'] > 4, coluna].groupby(['city']).size().sort_values(ascending=False).reset_index(name='count').head(7)\n"
   ]
  },
  {
   "cell_type": "markdown",
   "id": "e9752b83-5c69-420a-8202-e0a9fe016932",
   "metadata": {},
   "source": [
    "## 3. Qual o nome da cidade que possui mais restaurantes com nota média abaixo de 2.5?\n",
    "\n",
    "## Gangtok é a cidade com mais restaurante com nota abaixo de 2.5"
   ]
  },
  {
   "cell_type": "code",
   "execution_count": 29,
   "id": "d4bb23d4-c503-49d8-b110-47c512fe81d4",
   "metadata": {},
   "outputs": [
    {
     "data": {
      "text/html": [
       "<div>\n",
       "<style scoped>\n",
       "    .dataframe tbody tr th:only-of-type {\n",
       "        vertical-align: middle;\n",
       "    }\n",
       "\n",
       "    .dataframe tbody tr th {\n",
       "        vertical-align: top;\n",
       "    }\n",
       "\n",
       "    .dataframe thead th {\n",
       "        text-align: right;\n",
       "    }\n",
       "</style>\n",
       "<table border=\"1\" class=\"dataframe\">\n",
       "  <thead>\n",
       "    <tr style=\"text-align: right;\">\n",
       "      <th></th>\n",
       "      <th>city</th>\n",
       "      <th>count</th>\n",
       "    </tr>\n",
       "  </thead>\n",
       "  <tbody>\n",
       "    <tr>\n",
       "      <th>0</th>\n",
       "      <td>Gangtok</td>\n",
       "      <td>33</td>\n",
       "    </tr>\n",
       "    <tr>\n",
       "      <th>1</th>\n",
       "      <td>Ooty</td>\n",
       "      <td>19</td>\n",
       "    </tr>\n",
       "    <tr>\n",
       "      <th>2</th>\n",
       "      <td>São Paulo</td>\n",
       "      <td>15</td>\n",
       "    </tr>\n",
       "    <tr>\n",
       "      <th>3</th>\n",
       "      <td>Brasília</td>\n",
       "      <td>15</td>\n",
       "    </tr>\n",
       "    <tr>\n",
       "      <th>4</th>\n",
       "      <td>Rio de Janeiro</td>\n",
       "      <td>12</td>\n",
       "    </tr>\n",
       "    <tr>\n",
       "      <th>5</th>\n",
       "      <td>Manchester</td>\n",
       "      <td>7</td>\n",
       "    </tr>\n",
       "    <tr>\n",
       "      <th>6</th>\n",
       "      <td>Shimla</td>\n",
       "      <td>4</td>\n",
       "    </tr>\n",
       "  </tbody>\n",
       "</table>\n",
       "</div>"
      ],
      "text/plain": [
       "             city  count\n",
       "0         Gangtok     33\n",
       "1            Ooty     19\n",
       "2       São Paulo     15\n",
       "3        Brasília     15\n",
       "4  Rio de Janeiro     12\n",
       "5      Manchester      7\n",
       "6          Shimla      4"
      ]
     },
     "execution_count": 29,
     "metadata": {},
     "output_type": "execute_result"
    }
   ],
   "source": [
    "coluna = ['city', 'aggregate_rating']\n",
    "df1.loc[df1['aggregate_rating'] < 2.5, coluna].groupby(['city']).size().sort_values(ascending=False).reset_index(name='count').head(7)\n"
   ]
  },
  {
   "cell_type": "markdown",
   "id": "9b4c46c8-2ab2-4f3f-a489-d673590b5386",
   "metadata": {
    "tags": []
   },
   "source": [
    "## 4. Qual o nome da cidade que possui o maior valor médio de um prato para dois?\n",
    "\n",
    "## A cidade com maior valor medio de prato é Pasay City."
   ]
  },
  {
   "cell_type": "code",
   "execution_count": 30,
   "id": "16c8220a-dec4-4f1d-b4e2-8b5096c2d61a",
   "metadata": {},
   "outputs": [
    {
     "data": {
      "text/html": [
       "<div>\n",
       "<style scoped>\n",
       "    .dataframe tbody tr th:only-of-type {\n",
       "        vertical-align: middle;\n",
       "    }\n",
       "\n",
       "    .dataframe tbody tr th {\n",
       "        vertical-align: top;\n",
       "    }\n",
       "\n",
       "    .dataframe thead th {\n",
       "        text-align: right;\n",
       "    }\n",
       "</style>\n",
       "<table border=\"1\" class=\"dataframe\">\n",
       "  <thead>\n",
       "    <tr style=\"text-align: right;\">\n",
       "      <th></th>\n",
       "      <th>city</th>\n",
       "      <th>price_in_dollar</th>\n",
       "    </tr>\n",
       "  </thead>\n",
       "  <tbody>\n",
       "    <tr>\n",
       "      <th>0</th>\n",
       "      <td>Pasay City</td>\n",
       "      <td>293.900000</td>\n",
       "    </tr>\n",
       "    <tr>\n",
       "      <th>1</th>\n",
       "      <td>Singapore</td>\n",
       "      <td>141.437500</td>\n",
       "    </tr>\n",
       "    <tr>\n",
       "      <th>2</th>\n",
       "      <td>New York City</td>\n",
       "      <td>101.500000</td>\n",
       "    </tr>\n",
       "    <tr>\n",
       "      <th>3</th>\n",
       "      <td>Tagaytay City</td>\n",
       "      <td>97.966667</td>\n",
       "    </tr>\n",
       "    <tr>\n",
       "      <th>4</th>\n",
       "      <td>Makati City</td>\n",
       "      <td>96.165882</td>\n",
       "    </tr>\n",
       "    <tr>\n",
       "      <th>5</th>\n",
       "      <td>Miami</td>\n",
       "      <td>92.000000</td>\n",
       "    </tr>\n",
       "    <tr>\n",
       "      <th>6</th>\n",
       "      <td>Taguig City</td>\n",
       "      <td>91.640556</td>\n",
       "    </tr>\n",
       "  </tbody>\n",
       "</table>\n",
       "</div>"
      ],
      "text/plain": [
       "            city  price_in_dollar\n",
       "0     Pasay City       293.900000\n",
       "1      Singapore       141.437500\n",
       "2  New York City       101.500000\n",
       "3  Tagaytay City        97.966667\n",
       "4    Makati City        96.165882\n",
       "5          Miami        92.000000\n",
       "6    Taguig City        91.640556"
      ]
     },
     "execution_count": 30,
     "metadata": {},
     "output_type": "execute_result"
    }
   ],
   "source": [
    "colunas = ['city', 'price_in_dollar']\n",
    "df1[colunas].groupby('city').mean().sort_values(by='price_in_dollar', ascending=False).head(7).reset_index()\n"
   ]
  },
  {
   "cell_type": "markdown",
   "id": "44473daa-6c00-49e8-a47f-402cbc887d96",
   "metadata": {},
   "source": [
    "## 5. Qual o nome da cidade que possui a maior quantidade de tipos de culinária distintas?\n",
    "\n",
    "## Birmingham é a cidade que possui maior quantidade de tipo de culinária distintas "
   ]
  },
  {
   "cell_type": "code",
   "execution_count": 31,
   "id": "b3262dca-dcb9-4814-958e-30240445b726",
   "metadata": {},
   "outputs": [
    {
     "data": {
      "text/html": [
       "<div>\n",
       "<style scoped>\n",
       "    .dataframe tbody tr th:only-of-type {\n",
       "        vertical-align: middle;\n",
       "    }\n",
       "\n",
       "    .dataframe tbody tr th {\n",
       "        vertical-align: top;\n",
       "    }\n",
       "\n",
       "    .dataframe thead th {\n",
       "        text-align: right;\n",
       "    }\n",
       "</style>\n",
       "<table border=\"1\" class=\"dataframe\">\n",
       "  <thead>\n",
       "    <tr style=\"text-align: right;\">\n",
       "      <th></th>\n",
       "      <th>city</th>\n",
       "      <th>cuisines</th>\n",
       "    </tr>\n",
       "  </thead>\n",
       "  <tbody>\n",
       "    <tr>\n",
       "      <th>0</th>\n",
       "      <td>Birmingham</td>\n",
       "      <td>32</td>\n",
       "    </tr>\n",
       "    <tr>\n",
       "      <th>1</th>\n",
       "      <td>Doha</td>\n",
       "      <td>31</td>\n",
       "    </tr>\n",
       "    <tr>\n",
       "      <th>2</th>\n",
       "      <td>Montreal</td>\n",
       "      <td>30</td>\n",
       "    </tr>\n",
       "    <tr>\n",
       "      <th>3</th>\n",
       "      <td>Manchester</td>\n",
       "      <td>30</td>\n",
       "    </tr>\n",
       "    <tr>\n",
       "      <th>4</th>\n",
       "      <td>Houston</td>\n",
       "      <td>30</td>\n",
       "    </tr>\n",
       "    <tr>\n",
       "      <th>5</th>\n",
       "      <td>São Paulo</td>\n",
       "      <td>29</td>\n",
       "    </tr>\n",
       "    <tr>\n",
       "      <th>6</th>\n",
       "      <td>Perth</td>\n",
       "      <td>29</td>\n",
       "    </tr>\n",
       "  </tbody>\n",
       "</table>\n",
       "</div>"
      ],
      "text/plain": [
       "         city  cuisines\n",
       "0  Birmingham        32\n",
       "1        Doha        31\n",
       "2    Montreal        30\n",
       "3  Manchester        30\n",
       "4     Houston        30\n",
       "5   São Paulo        29\n",
       "6       Perth        29"
      ]
     },
     "execution_count": 31,
     "metadata": {},
     "output_type": "execute_result"
    }
   ],
   "source": [
    "coluna = ['city', 'cuisines']\n",
    "df1.loc[:, coluna].groupby('city').nunique().sort_values('cuisines', ascending=False).head(7).reset_index()\n"
   ]
  },
  {
   "cell_type": "markdown",
   "id": "30d366d9-1251-4cb1-af27-25ec968f5768",
   "metadata": {
    "tags": []
   },
   "source": [
    "## 6. Qual o nome da cidade que possui a maior quantidade de restaurantes que fazem reservas?\n",
    "\n",
    "## R: Bangalore e a cidade que possui a maior quantidade de restaurante que fazem reserva"
   ]
  },
  {
   "cell_type": "code",
   "execution_count": 32,
   "id": "a21db1c3-07b4-45b0-af6b-d1db519b5036",
   "metadata": {},
   "outputs": [
    {
     "data": {
      "text/html": [
       "<div>\n",
       "<style scoped>\n",
       "    .dataframe tbody tr th:only-of-type {\n",
       "        vertical-align: middle;\n",
       "    }\n",
       "\n",
       "    .dataframe tbody tr th {\n",
       "        vertical-align: top;\n",
       "    }\n",
       "\n",
       "    .dataframe thead th {\n",
       "        text-align: right;\n",
       "    }\n",
       "</style>\n",
       "<table border=\"1\" class=\"dataframe\">\n",
       "  <thead>\n",
       "    <tr style=\"text-align: right;\">\n",
       "      <th></th>\n",
       "      <th>city</th>\n",
       "      <th>Qtd_de_reserva</th>\n",
       "    </tr>\n",
       "  </thead>\n",
       "  <tbody>\n",
       "    <tr>\n",
       "      <th>0</th>\n",
       "      <td>Bangalore</td>\n",
       "      <td>42</td>\n",
       "    </tr>\n",
       "    <tr>\n",
       "      <th>1</th>\n",
       "      <td>Chennai</td>\n",
       "      <td>28</td>\n",
       "    </tr>\n",
       "    <tr>\n",
       "      <th>2</th>\n",
       "      <td>Pune</td>\n",
       "      <td>25</td>\n",
       "    </tr>\n",
       "    <tr>\n",
       "      <th>3</th>\n",
       "      <td>Mumbai</td>\n",
       "      <td>18</td>\n",
       "    </tr>\n",
       "    <tr>\n",
       "      <th>4</th>\n",
       "      <td>Brisbane</td>\n",
       "      <td>17</td>\n",
       "    </tr>\n",
       "    <tr>\n",
       "      <th>5</th>\n",
       "      <td>Auckland</td>\n",
       "      <td>17</td>\n",
       "    </tr>\n",
       "    <tr>\n",
       "      <th>6</th>\n",
       "      <td>New Delhi</td>\n",
       "      <td>16</td>\n",
       "    </tr>\n",
       "  </tbody>\n",
       "</table>\n",
       "</div>"
      ],
      "text/plain": [
       "        city  Qtd_de_reserva\n",
       "0  Bangalore              42\n",
       "1    Chennai              28\n",
       "2       Pune              25\n",
       "3     Mumbai              18\n",
       "4   Brisbane              17\n",
       "5   Auckland              17\n",
       "6  New Delhi              16"
      ]
     },
     "execution_count": 32,
     "metadata": {},
     "output_type": "execute_result"
    }
   ],
   "source": [
    "coluna = ['city' , 'has_table_booking']\n",
    "df1.loc[df1['has_table_booking'] == 1, coluna].groupby('city').size().sort_values(ascending=False).reset_index(name='Qtd_de_reserva').head(7)"
   ]
  },
  {
   "cell_type": "markdown",
   "id": "45208039-8678-46f4-bdd3-c937e0b82815",
   "metadata": {},
   "source": [
    "## 7. Qual o nome da cidade que possui a maior quantidade de restaurantes que fazem entregas?\n",
    "\n",
    "## Vadodara e Amritsar sao as cidades com maior quantidade de rstaurantes que fazem entregas"
   ]
  },
  {
   "cell_type": "code",
   "execution_count": 34,
   "id": "9af2f9f0-bff5-4729-bde6-888364cc0047",
   "metadata": {},
   "outputs": [
    {
     "data": {
      "text/html": [
       "<div>\n",
       "<style scoped>\n",
       "    .dataframe tbody tr th:only-of-type {\n",
       "        vertical-align: middle;\n",
       "    }\n",
       "\n",
       "    .dataframe tbody tr th {\n",
       "        vertical-align: top;\n",
       "    }\n",
       "\n",
       "    .dataframe thead th {\n",
       "        text-align: right;\n",
       "    }\n",
       "</style>\n",
       "<table border=\"1\" class=\"dataframe\">\n",
       "  <thead>\n",
       "    <tr style=\"text-align: right;\">\n",
       "      <th></th>\n",
       "      <th>city</th>\n",
       "      <th>Qtd_de_entregas</th>\n",
       "    </tr>\n",
       "  </thead>\n",
       "  <tbody>\n",
       "    <tr>\n",
       "      <th>0</th>\n",
       "      <td>Vadodara</td>\n",
       "      <td>48</td>\n",
       "    </tr>\n",
       "    <tr>\n",
       "      <th>1</th>\n",
       "      <td>Amritsar</td>\n",
       "      <td>48</td>\n",
       "    </tr>\n",
       "    <tr>\n",
       "      <th>2</th>\n",
       "      <td>Aurangabad</td>\n",
       "      <td>47</td>\n",
       "    </tr>\n",
       "    <tr>\n",
       "      <th>3</th>\n",
       "      <td>Ludhiana</td>\n",
       "      <td>46</td>\n",
       "    </tr>\n",
       "    <tr>\n",
       "      <th>4</th>\n",
       "      <td>Bhopal</td>\n",
       "      <td>46</td>\n",
       "    </tr>\n",
       "    <tr>\n",
       "      <th>5</th>\n",
       "      <td>Dehradun</td>\n",
       "      <td>45</td>\n",
       "    </tr>\n",
       "    <tr>\n",
       "      <th>6</th>\n",
       "      <td>Ranchi</td>\n",
       "      <td>42</td>\n",
       "    </tr>\n",
       "  </tbody>\n",
       "</table>\n",
       "</div>"
      ],
      "text/plain": [
       "         city  Qtd_de_entregas\n",
       "0    Vadodara               48\n",
       "1    Amritsar               48\n",
       "2  Aurangabad               47\n",
       "3    Ludhiana               46\n",
       "4      Bhopal               46\n",
       "5    Dehradun               45\n",
       "6      Ranchi               42"
      ]
     },
     "execution_count": 34,
     "metadata": {},
     "output_type": "execute_result"
    }
   ],
   "source": [
    "#  'is_delivering_now' \n",
    "coluna = ['city', 'is_delivering_now']\n",
    "df1.loc[df1['is_delivering_now'] == 1, coluna].groupby('city').size().sort_values(ascending=False).reset_index(name='Qtd_de_entregas').head(7)"
   ]
  },
  {
   "cell_type": "markdown",
   "id": "1f32cde0-f289-49b3-bd84-4677c0adad7e",
   "metadata": {
    "tags": []
   },
   "source": [
    "## 8. Qual o nome da cidade que possui a maior quantidade de restaurantes que aceitam pedidos online?\n",
    "\n",
    "## Bhopal é a cidade que tem mais restaurantes que aceita pedidos online "
   ]
  },
  {
   "cell_type": "code",
   "execution_count": 36,
   "id": "5e653a63-c1a6-47bf-9412-ebe1998e64a7",
   "metadata": {},
   "outputs": [
    {
     "data": {
      "text/html": [
       "<div>\n",
       "<style scoped>\n",
       "    .dataframe tbody tr th:only-of-type {\n",
       "        vertical-align: middle;\n",
       "    }\n",
       "\n",
       "    .dataframe tbody tr th {\n",
       "        vertical-align: top;\n",
       "    }\n",
       "\n",
       "    .dataframe thead th {\n",
       "        text-align: right;\n",
       "    }\n",
       "</style>\n",
       "<table border=\"1\" class=\"dataframe\">\n",
       "  <thead>\n",
       "    <tr style=\"text-align: right;\">\n",
       "      <th></th>\n",
       "      <th>city</th>\n",
       "      <th>Qtd_de_entregas_online</th>\n",
       "    </tr>\n",
       "  </thead>\n",
       "  <tbody>\n",
       "    <tr>\n",
       "      <th>0</th>\n",
       "      <td>Bhopal</td>\n",
       "      <td>75</td>\n",
       "    </tr>\n",
       "    <tr>\n",
       "      <th>1</th>\n",
       "      <td>Vadodara</td>\n",
       "      <td>74</td>\n",
       "    </tr>\n",
       "    <tr>\n",
       "      <th>2</th>\n",
       "      <td>Abu Dhabi</td>\n",
       "      <td>71</td>\n",
       "    </tr>\n",
       "    <tr>\n",
       "      <th>3</th>\n",
       "      <td>Sharjah</td>\n",
       "      <td>71</td>\n",
       "    </tr>\n",
       "    <tr>\n",
       "      <th>4</th>\n",
       "      <td>Nagpur</td>\n",
       "      <td>69</td>\n",
       "    </tr>\n",
       "    <tr>\n",
       "      <th>5</th>\n",
       "      <td>Aurangabad</td>\n",
       "      <td>69</td>\n",
       "    </tr>\n",
       "    <tr>\n",
       "      <th>6</th>\n",
       "      <td>Patna</td>\n",
       "      <td>69</td>\n",
       "    </tr>\n",
       "  </tbody>\n",
       "</table>\n",
       "</div>"
      ],
      "text/plain": [
       "         city  Qtd_de_entregas_online\n",
       "0      Bhopal                      75\n",
       "1    Vadodara                      74\n",
       "2   Abu Dhabi                      71\n",
       "3     Sharjah                      71\n",
       "4      Nagpur                      69\n",
       "5  Aurangabad                      69\n",
       "6       Patna                      69"
      ]
     },
     "execution_count": 36,
     "metadata": {},
     "output_type": "execute_result"
    }
   ],
   "source": [
    "coluna = ['city', 'has_online_delivery']\n",
    "df1.loc[df1['has_online_delivery'] == 1, coluna].groupby('city').size().sort_values(ascending=False).reset_index(name='Qtd_de_entregas_online').head(7)"
   ]
  },
  {
   "cell_type": "markdown",
   "id": "0c2fb896-a097-49d1-bb71-aa2468732822",
   "metadata": {
    "jp-MarkdownHeadingCollapsed": true,
    "tags": []
   },
   "source": [
    "# Restaurantes\n"
   ]
  },
  {
   "cell_type": "markdown",
   "id": "0260c3f1-e32c-40ff-82f2-5974c9a705a4",
   "metadata": {},
   "source": [
    "## 1. Qual o nome do restaurante que possui a maior quantidade de avaliações?\n",
    "\n",
    "## R:Bawarchi é o restaurante com a maior quantidade de avalição "
   ]
  },
  {
   "cell_type": "code",
   "execution_count": 37,
   "id": "4a1f3b1a-f846-4aaf-abdc-62df7098bb67",
   "metadata": {},
   "outputs": [
    {
     "data": {
      "text/html": [
       "<div>\n",
       "<style scoped>\n",
       "    .dataframe tbody tr th:only-of-type {\n",
       "        vertical-align: middle;\n",
       "    }\n",
       "\n",
       "    .dataframe tbody tr th {\n",
       "        vertical-align: top;\n",
       "    }\n",
       "\n",
       "    .dataframe thead th {\n",
       "        text-align: right;\n",
       "    }\n",
       "</style>\n",
       "<table border=\"1\" class=\"dataframe\">\n",
       "  <thead>\n",
       "    <tr style=\"text-align: right;\">\n",
       "      <th></th>\n",
       "      <th>restaurant_name</th>\n",
       "      <th>votes</th>\n",
       "    </tr>\n",
       "  </thead>\n",
       "  <tbody>\n",
       "    <tr>\n",
       "      <th>0</th>\n",
       "      <td>Bawarchi</td>\n",
       "      <td>41333</td>\n",
       "    </tr>\n",
       "    <tr>\n",
       "      <th>1</th>\n",
       "      <td>Byg Brewski Brewing Company</td>\n",
       "      <td>17394</td>\n",
       "    </tr>\n",
       "    <tr>\n",
       "      <th>2</th>\n",
       "      <td>Toit</td>\n",
       "      <td>15270</td>\n",
       "    </tr>\n",
       "    <tr>\n",
       "      <th>3</th>\n",
       "      <td>Truffles</td>\n",
       "      <td>14984</td>\n",
       "    </tr>\n",
       "    <tr>\n",
       "      <th>4</th>\n",
       "      <td>Hauz Khas Social</td>\n",
       "      <td>13627</td>\n",
       "    </tr>\n",
       "  </tbody>\n",
       "</table>\n",
       "</div>"
      ],
      "text/plain": [
       "               restaurant_name  votes\n",
       "0                     Bawarchi  41333\n",
       "1  Byg Brewski Brewing Company  17394\n",
       "2                         Toit  15270\n",
       "3                     Truffles  14984\n",
       "4             Hauz Khas Social  13627"
      ]
     },
     "execution_count": 37,
     "metadata": {},
     "output_type": "execute_result"
    }
   ],
   "source": [
    "coluna = ['restaurant_name', 'votes']\n",
    "df1.loc[:, coluna].groupby('restaurant_name').max().sort_values('votes', ascending=False).reset_index().head(5)"
   ]
  },
  {
   "cell_type": "markdown",
   "id": "28c5aa54-31bf-45a1-bcd7-54990f1709aa",
   "metadata": {},
   "source": [
    "## 2. Qual o nome do restaurante com a maior nota média?\n",
    "\n",
    "## \tR: O restaurante Indian Grill Room com a maior nota media "
   ]
  },
  {
   "cell_type": "code",
   "execution_count": 47,
   "id": "50ee2d20-adb4-476d-9a2a-991b9f5f68a7",
   "metadata": {},
   "outputs": [
    {
     "data": {
      "text/html": [
       "<div>\n",
       "<style scoped>\n",
       "    .dataframe tbody tr th:only-of-type {\n",
       "        vertical-align: middle;\n",
       "    }\n",
       "\n",
       "    .dataframe tbody tr th {\n",
       "        vertical-align: top;\n",
       "    }\n",
       "\n",
       "    .dataframe thead th {\n",
       "        text-align: right;\n",
       "    }\n",
       "</style>\n",
       "<table border=\"1\" class=\"dataframe\">\n",
       "  <thead>\n",
       "    <tr style=\"text-align: right;\">\n",
       "      <th></th>\n",
       "      <th>restaurant_name</th>\n",
       "      <th>restaurant_id</th>\n",
       "      <th>aggregate_rating</th>\n",
       "    </tr>\n",
       "  </thead>\n",
       "  <tbody>\n",
       "    <tr>\n",
       "      <th>3532</th>\n",
       "      <td>Indian Grill Room</td>\n",
       "      <td>7528</td>\n",
       "      <td>4.9</td>\n",
       "    </tr>\n",
       "    <tr>\n",
       "      <th>3525</th>\n",
       "      <td>Pirates of Grill</td>\n",
       "      <td>8913</td>\n",
       "      <td>4.9</td>\n",
       "    </tr>\n",
       "    <tr>\n",
       "      <th>4994</th>\n",
       "      <td>Darshan</td>\n",
       "      <td>10021</td>\n",
       "      <td>4.9</td>\n",
       "    </tr>\n",
       "    <tr>\n",
       "      <th>4066</th>\n",
       "      <td>Barbeque Nation</td>\n",
       "      <td>20842</td>\n",
       "      <td>4.9</td>\n",
       "    </tr>\n",
       "    <tr>\n",
       "      <th>2882</th>\n",
       "      <td>AB's - Absolute Barbecues</td>\n",
       "      <td>56618</td>\n",
       "      <td>4.9</td>\n",
       "    </tr>\n",
       "  </tbody>\n",
       "</table>\n",
       "</div>"
      ],
      "text/plain": [
       "                restaurant_name  restaurant_id  aggregate_rating\n",
       "3532          Indian Grill Room           7528               4.9\n",
       "3525           Pirates of Grill           8913               4.9\n",
       "4994                    Darshan          10021               4.9\n",
       "4066            Barbeque Nation          20842               4.9\n",
       "2882  AB's - Absolute Barbecues          56618               4.9"
      ]
     },
     "execution_count": 47,
     "metadata": {},
     "output_type": "execute_result"
    }
   ],
   "source": [
    "rest_name_rating = (df1[['restaurant_name', 'restaurant_id','aggregate_rating']]\n",
    "                    .sort_values(['aggregate_rating', 'restaurant_id'], ascending=[False, True])\n",
    "                    .head(5))\n",
    "\n",
    "rest_name_rating"
   ]
  },
  {
   "cell_type": "markdown",
   "id": "d847e7fe-31b8-41fd-8212-b042b1405aaa",
   "metadata": {},
   "source": [
    "## 3. Qual o nome do restaurante que possui o maior valor de uma prato para duas pessoas?\n",
    "\n",
    "## R: O restaurante com maior valor para duas pessoas é o Corner House"
   ]
  },
  {
   "cell_type": "code",
   "execution_count": 49,
   "id": "45e0b3d5-bd4b-4d7b-b03a-c11b25c25973",
   "metadata": {},
   "outputs": [
    {
     "data": {
      "text/html": [
       "<div>\n",
       "<style scoped>\n",
       "    .dataframe tbody tr th:only-of-type {\n",
       "        vertical-align: middle;\n",
       "    }\n",
       "\n",
       "    .dataframe tbody tr th {\n",
       "        vertical-align: top;\n",
       "    }\n",
       "\n",
       "    .dataframe thead th {\n",
       "        text-align: right;\n",
       "    }\n",
       "</style>\n",
       "<table border=\"1\" class=\"dataframe\">\n",
       "  <thead>\n",
       "    <tr style=\"text-align: right;\">\n",
       "      <th></th>\n",
       "      <th>restaurant_name</th>\n",
       "      <th>price_in_dollar</th>\n",
       "    </tr>\n",
       "  </thead>\n",
       "  <tbody>\n",
       "    <tr>\n",
       "      <th>0</th>\n",
       "      <td>Corner House</td>\n",
       "      <td>755.0</td>\n",
       "    </tr>\n",
       "    <tr>\n",
       "      <th>1</th>\n",
       "      <td>Eleven Madison Park</td>\n",
       "      <td>650.0</td>\n",
       "    </tr>\n",
       "    <tr>\n",
       "      <th>2</th>\n",
       "      <td>Alinea</td>\n",
       "      <td>600.0</td>\n",
       "    </tr>\n",
       "    <tr>\n",
       "      <th>3</th>\n",
       "      <td>Per Se</td>\n",
       "      <td>600.0</td>\n",
       "    </tr>\n",
       "    <tr>\n",
       "      <th>4</th>\n",
       "      <td>Le Bernardin</td>\n",
       "      <td>500.0</td>\n",
       "    </tr>\n",
       "  </tbody>\n",
       "</table>\n",
       "</div>"
      ],
      "text/plain": [
       "       restaurant_name  price_in_dollar\n",
       "0         Corner House            755.0\n",
       "1  Eleven Madison Park            650.0\n",
       "2               Alinea            600.0\n",
       "3               Per Se            600.0\n",
       "4         Le Bernardin            500.0"
      ]
     },
     "execution_count": 49,
     "metadata": {},
     "output_type": "execute_result"
    }
   ],
   "source": [
    "coluna = ['restaurant_name', 'price_in_dollar']\n",
    "df1.loc[:, coluna].groupby('restaurant_name').max().sort_values(by='price_in_dollar', ascending=False).head(5).reset_index()"
   ]
  },
  {
   "cell_type": "markdown",
   "id": "4f2bfeae-b617-430b-92a9-e7c922909053",
   "metadata": {},
   "source": [
    "## 4. Qual o nome do restaurante de tipo de culinária brasileira que possui a menor média de avaliação?\n",
    "\n",
    "## R: O restaurante com a menor media de avaliação é Natu Sucos"
   ]
  },
  {
   "cell_type": "code",
   "execution_count": 46,
   "id": "f5b5ebb3-e7a3-415a-920e-16d2e0c25774",
   "metadata": {},
   "outputs": [
    {
     "data": {
      "text/html": [
       "<div>\n",
       "<style scoped>\n",
       "    .dataframe tbody tr th:only-of-type {\n",
       "        vertical-align: middle;\n",
       "    }\n",
       "\n",
       "    .dataframe tbody tr th {\n",
       "        vertical-align: top;\n",
       "    }\n",
       "\n",
       "    .dataframe thead th {\n",
       "        text-align: right;\n",
       "    }\n",
       "</style>\n",
       "<table border=\"1\" class=\"dataframe\">\n",
       "  <thead>\n",
       "    <tr style=\"text-align: right;\">\n",
       "      <th></th>\n",
       "      <th>restaurant_name</th>\n",
       "      <th>city</th>\n",
       "      <th>cuisines</th>\n",
       "      <th>aggregate_rating</th>\n",
       "      <th>votes</th>\n",
       "    </tr>\n",
       "  </thead>\n",
       "  <tbody>\n",
       "    <tr>\n",
       "      <th>223</th>\n",
       "      <td>Natu Sucos</td>\n",
       "      <td>Rio de Janeiro</td>\n",
       "      <td>Healthy Food</td>\n",
       "      <td>2.3</td>\n",
       "      <td>3</td>\n",
       "    </tr>\n",
       "    <tr>\n",
       "      <th>167</th>\n",
       "      <td>Orienthai</td>\n",
       "      <td>Rio de Janeiro</td>\n",
       "      <td>Japanese</td>\n",
       "      <td>2.4</td>\n",
       "      <td>8</td>\n",
       "    </tr>\n",
       "    <tr>\n",
       "      <th>168</th>\n",
       "      <td>Hachiko</td>\n",
       "      <td>Rio de Janeiro</td>\n",
       "      <td>Japanese</td>\n",
       "      <td>2.5</td>\n",
       "      <td>10</td>\n",
       "    </tr>\n",
       "    <tr>\n",
       "      <th>84</th>\n",
       "      <td>El Negro</td>\n",
       "      <td>Brasília</td>\n",
       "      <td>Argentine</td>\n",
       "      <td>2.5</td>\n",
       "      <td>10</td>\n",
       "    </tr>\n",
       "    <tr>\n",
       "      <th>228</th>\n",
       "      <td>Bob's</td>\n",
       "      <td>Rio de Janeiro</td>\n",
       "      <td>American</td>\n",
       "      <td>2.6</td>\n",
       "      <td>2</td>\n",
       "    </tr>\n",
       "  </tbody>\n",
       "</table>\n",
       "</div>"
      ],
      "text/plain": [
       "    restaurant_name            city      cuisines  aggregate_rating  votes\n",
       "223      Natu Sucos  Rio de Janeiro  Healthy Food               2.3      3\n",
       "167       Orienthai  Rio de Janeiro      Japanese               2.4      8\n",
       "168         Hachiko  Rio de Janeiro      Japanese               2.5     10\n",
       "84         El Negro        Brasília     Argentine               2.5     10\n",
       "228           Bob's  Rio de Janeiro      American               2.6      2"
      ]
     },
     "execution_count": 46,
     "metadata": {},
     "output_type": "execute_result"
    }
   ],
   "source": [
    "brazil_worst_mean = (df1.loc[(df1['country'] == 'Brazil') & (df['aggregate_rating'] != 0.0), \n",
    "        ['restaurant_name', 'city', 'cuisines', 'aggregate_rating', 'votes']].sort_values('aggregate_rating').head(5))\n",
    "\n",
    "brazil_worst_mean"
   ]
  },
  {
   "cell_type": "markdown",
   "id": "024fba51-840b-4403-b7ee-d94b4b66e14c",
   "metadata": {},
   "source": [
    "## 5. Qual o nome do restaurante de tipo de culinária brasileira, e que é do Brasil, que possui a maior média de avaliação?\n",
    "## O Braseiro da Gávea e o Aprazível são os restaurantes com as maiores avaliação do Bras"
   ]
  },
  {
   "cell_type": "code",
   "execution_count": 50,
   "id": "dfb2a65e-983e-458f-828d-98ae0d3c997a",
   "metadata": {},
   "outputs": [
    {
     "data": {
      "text/html": [
       "<div>\n",
       "<style scoped>\n",
       "    .dataframe tbody tr th:only-of-type {\n",
       "        vertical-align: middle;\n",
       "    }\n",
       "\n",
       "    .dataframe tbody tr th {\n",
       "        vertical-align: top;\n",
       "    }\n",
       "\n",
       "    .dataframe thead th {\n",
       "        text-align: right;\n",
       "    }\n",
       "</style>\n",
       "<table border=\"1\" class=\"dataframe\">\n",
       "  <thead>\n",
       "    <tr style=\"text-align: right;\">\n",
       "      <th></th>\n",
       "      <th>restaurant_name</th>\n",
       "      <th>aggregate_rating</th>\n",
       "    </tr>\n",
       "  </thead>\n",
       "  <tbody>\n",
       "    <tr>\n",
       "      <th>191</th>\n",
       "      <td>Braseiro da Gávea</td>\n",
       "      <td>4.9</td>\n",
       "    </tr>\n",
       "    <tr>\n",
       "      <th>230</th>\n",
       "      <td>Aprazível</td>\n",
       "      <td>4.9</td>\n",
       "    </tr>\n",
       "    <tr>\n",
       "      <th>316</th>\n",
       "      <td>Mocotó</td>\n",
       "      <td>4.8</td>\n",
       "    </tr>\n",
       "    <tr>\n",
       "      <th>197</th>\n",
       "      <td>Garota de Ipanema</td>\n",
       "      <td>4.8</td>\n",
       "    </tr>\n",
       "    <tr>\n",
       "      <th>165</th>\n",
       "      <td>Fogo de Chão</td>\n",
       "      <td>4.8</td>\n",
       "    </tr>\n",
       "  </tbody>\n",
       "</table>\n",
       "</div>"
      ],
      "text/plain": [
       "       restaurant_name  aggregate_rating\n",
       "191  Braseiro da Gávea               4.9\n",
       "230          Aprazível               4.9\n",
       "316             Mocotó               4.8\n",
       "197  Garota de Ipanema               4.8\n",
       "165       Fogo de Chão               4.8"
      ]
     },
     "execution_count": 50,
     "metadata": {},
     "output_type": "execute_result"
    }
   ],
   "source": [
    "rest_name_brazil = df1.loc[(df1['country'] == 'Brazil') & (df1['cuisines'] == 'Brazilian')].sort_values('aggregate_rating', ascending=False)\n",
    "\n",
    "                         \n",
    "rest_name_brazil[['restaurant_name','aggregate_rating']].head(5)"
   ]
  },
  {
   "cell_type": "markdown",
   "id": "889fb3db-007d-44bb-85ac-3fb9d8fbd82b",
   "metadata": {},
   "source": [
    "## 6. Os restaurantes que aceitam pedido online são também, na média, os restaurantes que mais possuem avaliações registradas?\n",
    "\n",
    "## R: Em média, os restaurantes que aceitam pedidos online são também os restaurantes que mais possuem avaliações registradas."
   ]
  },
  {
   "cell_type": "code",
   "execution_count": 53,
   "id": "53d8c722-00ef-433c-87bb-2f15cc8bd4bc",
   "metadata": {},
   "outputs": [
    {
     "data": {
      "text/html": [
       "<div>\n",
       "<style scoped>\n",
       "    .dataframe tbody tr th:only-of-type {\n",
       "        vertical-align: middle;\n",
       "    }\n",
       "\n",
       "    .dataframe tbody tr th {\n",
       "        vertical-align: top;\n",
       "    }\n",
       "\n",
       "    .dataframe thead th {\n",
       "        text-align: right;\n",
       "    }\n",
       "</style>\n",
       "<table border=\"1\" class=\"dataframe\">\n",
       "  <thead>\n",
       "    <tr style=\"text-align: right;\">\n",
       "      <th></th>\n",
       "      <th>has_online_delivery</th>\n",
       "      <th>votes</th>\n",
       "    </tr>\n",
       "  </thead>\n",
       "  <tbody>\n",
       "    <tr>\n",
       "      <th>0</th>\n",
       "      <td>Não aceita Delivery</td>\n",
       "      <td>479.63</td>\n",
       "    </tr>\n",
       "    <tr>\n",
       "      <th>1</th>\n",
       "      <td>Aceita Delivery</td>\n",
       "      <td>838.82</td>\n",
       "    </tr>\n",
       "  </tbody>\n",
       "</table>\n",
       "</div>"
      ],
      "text/plain": [
       "   has_online_delivery   votes\n",
       "0  Não aceita Delivery  479.63\n",
       "1      Aceita Delivery  838.82"
      ]
     },
     "execution_count": 53,
     "metadata": {},
     "output_type": "execute_result"
    }
   ],
   "source": [
    "colunas = ['has_online_delivery','votes']\n",
    "mean = df1.loc[:, colunas].groupby('has_online_delivery').mean().reset_index().round(2)\n",
    "mean.replace({0: 'Não aceita Delivery', 1: 'Aceita Delivery'})"
   ]
  },
  {
   "cell_type": "markdown",
   "id": "3044a3d7-36c2-4e49-b025-b7b3f72cc33c",
   "metadata": {},
   "source": [
    "## 7. Os restaurantes que fazem reservas são também, na média, os restaurantes que possuem o maior valor médio de um prato para duas pessoas?\n",
    "\n",
    "## Sim "
   ]
  },
  {
   "cell_type": "code",
   "execution_count": 55,
   "id": "e023408e-04f6-44be-9b06-f2f2d86bc13d",
   "metadata": {},
   "outputs": [
    {
     "data": {
      "text/html": [
       "<div>\n",
       "<style scoped>\n",
       "    .dataframe tbody tr th:only-of-type {\n",
       "        vertical-align: middle;\n",
       "    }\n",
       "\n",
       "    .dataframe tbody tr th {\n",
       "        vertical-align: top;\n",
       "    }\n",
       "\n",
       "    .dataframe thead th {\n",
       "        text-align: right;\n",
       "    }\n",
       "</style>\n",
       "<table border=\"1\" class=\"dataframe\">\n",
       "  <thead>\n",
       "    <tr style=\"text-align: right;\">\n",
       "      <th></th>\n",
       "      <th>has_table_booking</th>\n",
       "      <th>price_in_dollar</th>\n",
       "    </tr>\n",
       "  </thead>\n",
       "  <tbody>\n",
       "    <tr>\n",
       "      <th>0</th>\n",
       "      <td>Não aceita Reservas</td>\n",
       "      <td>29.10</td>\n",
       "    </tr>\n",
       "    <tr>\n",
       "      <th>1</th>\n",
       "      <td>Aceita Reservas</td>\n",
       "      <td>36.13</td>\n",
       "    </tr>\n",
       "  </tbody>\n",
       "</table>\n",
       "</div>"
      ],
      "text/plain": [
       "      has_table_booking  price_in_dollar\n",
       "0  Não aceita Reservas             29.10\n",
       "1       Aceita Reservas            36.13"
      ]
     },
     "execution_count": 55,
     "metadata": {},
     "output_type": "execute_result"
    }
   ],
   "source": [
    "colunas = ['has_table_booking', 'price_in_dollar']\n",
    "mean = df1.loc[:, colunas].groupby('has_table_booking').mean().reset_index().round(2)\n",
    "mean.replace({0: 'Não aceita Reservas ', 1: 'Aceita Reservas'})"
   ]
  },
  {
   "cell_type": "markdown",
   "id": "658010a4-28ff-49d0-9a9c-8bb9779b9920",
   "metadata": {},
   "source": [
    "## 8. Os restaurantes do tipo de culinária japonesa dos Estados Unidos da América possuem um valor médio de prato para duas pessoas maior que as churrascarias americanas (BBQ)?\n",
    "\n",
    "## Sim "
   ]
  },
  {
   "cell_type": "code",
   "execution_count": 101,
   "id": "8977cdba-9a16-4737-b1d5-873e4a613404",
   "metadata": {},
   "outputs": [
    {
     "data": {
      "image/png": "[encoded data removed]",
      "text/plain": [
       "<Figure size 1000x500 with 2 Axes>"
      ]
     },
     "metadata": {},
     "output_type": "display_data"
    }
   ],
   "source": [
    "coluna = ['cuisines', 'average_cost_for_two']\n",
    "# Selecionando apenas os restaurantes de culinária japonesa e churrascarias americanas\n",
    "japonesa = df1.loc[df1['cuisines'].str.contains('Japanese') & (df1['country'] == 'United States of America'), coluna]\n",
    "bbq = df1.loc[df1['cuisines'].str.contains('BBQ') & (df1['country'] == 'United States of America'), coluna]\n",
    "\n",
    "# Calculando as médias do valor médio do prato para duas pessoas\n",
    "japonesa_media = japonesa['average_cost_for_two'].mean()\n",
    "bbq_media = bbq['average_cost_for_two'].mean()\n",
    "# Exibindo as médias em um gráfico\n",
    "\n",
    "import matplotlib.pyplot as plt\n",
    "\n",
    "fig, axs = plt.subplots(1, 2, figsize=(10,5))\n",
    "\n",
    "axs[0].bar([\"Japonesa\"], [japonesa_media])\n",
    "axs[0].set_title(\"Culinária japonesa)\")\n",
    "\n",
    "axs[1].bar([\"BBQ\"], [bbq_media])\n",
    "axs[1].set_title(\"Churrascarias americanas\")\n",
    "\n",
    "\n",
    "plt.show()\n",
    "\n",
    "\n",
    "## Japanese\n",
    "## BBQ"
   ]
  },
  {
   "cell_type": "markdown",
   "id": "e229a6c3-b6f0-44b5-bf0f-673d1dc2b6db",
   "metadata": {
    "jp-MarkdownHeadingCollapsed": true,
    "tags": []
   },
   "source": [
    "# Tipos de Culinária"
   ]
  },
  {
   "cell_type": "markdown",
   "id": "5f97030c-6015-480b-9401-b6ac02844807",
   "metadata": {
    "tags": []
   },
   "source": [
    "## 1. Dos restaurantes que possuem o tipo de culinária italiana, qual o nome do restaurante com a maior média de avaliação?\n",
    "\n",
    "## O Restaurante com a a maior media de avaliação do tipo culinaria Italiana é o Darshan."
   ]
  },
  {
   "cell_type": "code",
   "execution_count": 57,
   "id": "313ef1cf-7631-45c6-acd3-c469370ff8be",
   "metadata": {},
   "outputs": [
    {
     "data": {
      "text/html": [
       "<div>\n",
       "<style scoped>\n",
       "    .dataframe tbody tr th:only-of-type {\n",
       "        vertical-align: middle;\n",
       "    }\n",
       "\n",
       "    .dataframe tbody tr th {\n",
       "        vertical-align: top;\n",
       "    }\n",
       "\n",
       "    .dataframe thead th {\n",
       "        text-align: right;\n",
       "    }\n",
       "</style>\n",
       "<table border=\"1\" class=\"dataframe\">\n",
       "  <thead>\n",
       "    <tr style=\"text-align: right;\">\n",
       "      <th></th>\n",
       "      <th>restaurant_id</th>\n",
       "      <th>restaurant_name</th>\n",
       "      <th>cuisines</th>\n",
       "      <th>aggregate_rating</th>\n",
       "    </tr>\n",
       "  </thead>\n",
       "  <tbody>\n",
       "    <tr>\n",
       "      <th>4994</th>\n",
       "      <td>10021</td>\n",
       "      <td>Darshan</td>\n",
       "      <td>Italian</td>\n",
       "      <td>4.9</td>\n",
       "    </tr>\n",
       "    <tr>\n",
       "      <th>6649</th>\n",
       "      <td>6501298</td>\n",
       "      <td>Cafe Del Sol Classico</td>\n",
       "      <td>Italian</td>\n",
       "      <td>4.9</td>\n",
       "    </tr>\n",
       "    <tr>\n",
       "      <th>5809</th>\n",
       "      <td>7100171</td>\n",
       "      <td>Ombra</td>\n",
       "      <td>Italian</td>\n",
       "      <td>4.9</td>\n",
       "    </tr>\n",
       "    <tr>\n",
       "      <th>6053</th>\n",
       "      <td>7700796</td>\n",
       "      <td>Celino's</td>\n",
       "      <td>Italian</td>\n",
       "      <td>4.9</td>\n",
       "    </tr>\n",
       "    <tr>\n",
       "      <th>336</th>\n",
       "      <td>16587684</td>\n",
       "      <td>Andre's Cucina &amp; Polenta Bar</td>\n",
       "      <td>Italian</td>\n",
       "      <td>4.9</td>\n",
       "    </tr>\n",
       "  </tbody>\n",
       "</table>\n",
       "</div>"
      ],
      "text/plain": [
       "      restaurant_id               restaurant_name cuisines  aggregate_rating\n",
       "4994          10021                       Darshan  Italian               4.9\n",
       "6649        6501298         Cafe Del Sol Classico  Italian               4.9\n",
       "5809        7100171                         Ombra  Italian               4.9\n",
       "6053        7700796                      Celino's  Italian               4.9\n",
       "336        16587684  Andre's Cucina & Polenta Bar  Italian               4.9"
      ]
     },
     "execution_count": 57,
     "metadata": {},
     "output_type": "execute_result"
    }
   ],
   "source": [
    "italian = (df1.loc[(df1['cuisines'] == 'Italian') & (df1['aggregate_rating'] >= 4.9),\n",
    "                        ['restaurant_id','restaurant_name','cuisines','aggregate_rating']]\n",
    "           .sort_values(['aggregate_rating', 'restaurant_id'], ascending=[False, True])\n",
    "           .head(5))\n",
    "                    \n",
    "                   \n",
    "\n",
    "italian"
   ]
  },
  {
   "cell_type": "markdown",
   "id": "b9d97eed-41aa-4a19-bdc2-2ff8b8234b88",
   "metadata": {},
   "source": [
    "## 2. Dos restaurantes que possuem o tipo de culinária italiana, qual o nome do restaurante com a menor média de avaliação?\n",
    "\n",
    "## R:O Restaurante com a menor media de avaliação do tipo de culinaria Italiana é a Avenida Paulista."
   ]
  },
  {
   "cell_type": "code",
   "execution_count": 59,
   "id": "15500cc3-b51f-4664-b40e-3d5e5940c069",
   "metadata": {},
   "outputs": [
    {
     "data": {
      "text/html": [
       "<div>\n",
       "<style scoped>\n",
       "    .dataframe tbody tr th:only-of-type {\n",
       "        vertical-align: middle;\n",
       "    }\n",
       "\n",
       "    .dataframe tbody tr th {\n",
       "        vertical-align: top;\n",
       "    }\n",
       "\n",
       "    .dataframe thead th {\n",
       "        text-align: right;\n",
       "    }\n",
       "</style>\n",
       "<table border=\"1\" class=\"dataframe\">\n",
       "  <thead>\n",
       "    <tr style=\"text-align: right;\">\n",
       "      <th></th>\n",
       "      <th>restaurant_id</th>\n",
       "      <th>restaurant_name</th>\n",
       "      <th>cuisines</th>\n",
       "      <th>aggregate_rating</th>\n",
       "    </tr>\n",
       "  </thead>\n",
       "  <tbody>\n",
       "    <tr>\n",
       "      <th>138</th>\n",
       "      <td>6600542</td>\n",
       "      <td>Avenida Paulista</td>\n",
       "      <td>Italian</td>\n",
       "      <td>0.0</td>\n",
       "    </tr>\n",
       "    <tr>\n",
       "      <th>277</th>\n",
       "      <td>6714499</td>\n",
       "      <td>Ristorantino</td>\n",
       "      <td>Italian</td>\n",
       "      <td>0.0</td>\n",
       "    </tr>\n",
       "    <tr>\n",
       "      <th>296</th>\n",
       "      <td>6715707</td>\n",
       "      <td>Più</td>\n",
       "      <td>Italian</td>\n",
       "      <td>0.0</td>\n",
       "    </tr>\n",
       "    <tr>\n",
       "      <th>6194</th>\n",
       "      <td>6800666</td>\n",
       "      <td>Le Delicatezze Di Bruno</td>\n",
       "      <td>Italian</td>\n",
       "      <td>0.0</td>\n",
       "    </tr>\n",
       "    <tr>\n",
       "      <th>220</th>\n",
       "      <td>7304910</td>\n",
       "      <td>Bene - Sheraton Rio Hotel</td>\n",
       "      <td>Italian</td>\n",
       "      <td>0.0</td>\n",
       "    </tr>\n",
       "  </tbody>\n",
       "</table>\n",
       "</div>"
      ],
      "text/plain": [
       "      restaurant_id            restaurant_name cuisines  aggregate_rating\n",
       "138         6600542           Avenida Paulista  Italian               0.0\n",
       "277         6714499               Ristorantino  Italian               0.0\n",
       "296         6715707                        Più  Italian               0.0\n",
       "6194        6800666    Le Delicatezze Di Bruno  Italian               0.0\n",
       "220         7304910  Bene - Sheraton Rio Hotel  Italian               0.0"
      ]
     },
     "execution_count": 59,
     "metadata": {},
     "output_type": "execute_result"
    }
   ],
   "source": [
    "italian_min = (df1.loc[(df1['cuisines'] == 'Italian') & (df1['aggregate_rating'] >= 0.0),\n",
    "                        ['restaurant_id','restaurant_name','cuisines','aggregate_rating']]\n",
    "           .sort_values(['aggregate_rating', 'restaurant_id'], ascending=[True, True])\n",
    "           .head(5))\n",
    "                    \n",
    "                   \n",
    "\n",
    "italian_min"
   ]
  },
  {
   "cell_type": "markdown",
   "id": "41a77701-7e6e-40dd-8cc1-71c9c394f65a",
   "metadata": {},
   "source": [
    "## 3. Dos restaurantes que possuem o tipo de culinária americana, qual o nome do restaurante com a maior média de avaliação?\n",
    "\n",
    "## R: Burger & Lobster é o restaurante com a maior media de avaliação do tipo de culinaria americana.\t"
   ]
  },
  {
   "cell_type": "code",
   "execution_count": 60,
   "id": "2456c988-b82e-4844-8616-a3a49b0dd0b6",
   "metadata": {},
   "outputs": [
    {
     "data": {
      "text/html": [
       "<div>\n",
       "<style scoped>\n",
       "    .dataframe tbody tr th:only-of-type {\n",
       "        vertical-align: middle;\n",
       "    }\n",
       "\n",
       "    .dataframe tbody tr th {\n",
       "        vertical-align: top;\n",
       "    }\n",
       "\n",
       "    .dataframe thead th {\n",
       "        text-align: right;\n",
       "    }\n",
       "</style>\n",
       "<table border=\"1\" class=\"dataframe\">\n",
       "  <thead>\n",
       "    <tr style=\"text-align: right;\">\n",
       "      <th></th>\n",
       "      <th>restaurant_id</th>\n",
       "      <th>restaurant_name</th>\n",
       "      <th>cuisines</th>\n",
       "      <th>aggregate_rating</th>\n",
       "    </tr>\n",
       "  </thead>\n",
       "  <tbody>\n",
       "    <tr>\n",
       "      <th>6122</th>\n",
       "      <td>6102616</td>\n",
       "      <td>Burger &amp; Lobster</td>\n",
       "      <td>American</td>\n",
       "      <td>4.9</td>\n",
       "    </tr>\n",
       "    <tr>\n",
       "      <th>6227</th>\n",
       "      <td>6801374</td>\n",
       "      <td>Solita</td>\n",
       "      <td>American</td>\n",
       "      <td>4.9</td>\n",
       "    </tr>\n",
       "    <tr>\n",
       "      <th>693</th>\n",
       "      <td>16631515</td>\n",
       "      <td>OEB Breakfast Co.</td>\n",
       "      <td>American</td>\n",
       "      <td>4.9</td>\n",
       "    </tr>\n",
       "    <tr>\n",
       "      <th>789</th>\n",
       "      <td>16737455</td>\n",
       "      <td>Portillo's Hot Dogs</td>\n",
       "      <td>American</td>\n",
       "      <td>4.9</td>\n",
       "    </tr>\n",
       "    <tr>\n",
       "      <th>1409</th>\n",
       "      <td>16776778</td>\n",
       "      <td>S'MAC</td>\n",
       "      <td>American</td>\n",
       "      <td>4.9</td>\n",
       "    </tr>\n",
       "  </tbody>\n",
       "</table>\n",
       "</div>"
      ],
      "text/plain": [
       "      restaurant_id      restaurant_name  cuisines  aggregate_rating\n",
       "6122        6102616     Burger & Lobster  American               4.9\n",
       "6227        6801374               Solita  American               4.9\n",
       "693        16631515    OEB Breakfast Co.  American               4.9\n",
       "789        16737455  Portillo's Hot Dogs  American               4.9\n",
       "1409       16776778                S'MAC  American               4.9"
      ]
     },
     "execution_count": 60,
     "metadata": {},
     "output_type": "execute_result"
    }
   ],
   "source": [
    "american_max = (df1.loc[(df1['cuisines'] == 'American') & (df1['aggregate_rating'] >= 4.0),\n",
    "                        ['restaurant_id','restaurant_name','cuisines','aggregate_rating']]\n",
    "           .sort_values(['aggregate_rating', 'restaurant_id'], ascending=[False, True])\n",
    "           .head(5))\n",
    "\n",
    "american_max"
   ]
  },
  {
   "cell_type": "markdown",
   "id": "fe9bf15c-34e5-48ac-86b2-b429d8092085",
   "metadata": {},
   "source": [
    "## 4. Dos restaurantes que possuem o tipo de culinária americana, qual o nome do restaurante com a menor média de avaliação?\n",
    "\n",
    "## R: Alston Bar & Beef é o restaurante com a menor media de avaliação do tipo de culinaria americana."
   ]
  },
  {
   "cell_type": "code",
   "execution_count": 61,
   "id": "05dfa69c-c05f-45ee-bfae-22f4ee83f45d",
   "metadata": {},
   "outputs": [
    {
     "data": {
      "text/html": [
       "<div>\n",
       "<style scoped>\n",
       "    .dataframe tbody tr th:only-of-type {\n",
       "        vertical-align: middle;\n",
       "    }\n",
       "\n",
       "    .dataframe tbody tr th {\n",
       "        vertical-align: top;\n",
       "    }\n",
       "\n",
       "    .dataframe thead th {\n",
       "        text-align: right;\n",
       "    }\n",
       "</style>\n",
       "<table border=\"1\" class=\"dataframe\">\n",
       "  <thead>\n",
       "    <tr style=\"text-align: right;\">\n",
       "      <th></th>\n",
       "      <th>restaurant_id</th>\n",
       "      <th>restaurant_name</th>\n",
       "      <th>cuisines</th>\n",
       "      <th>aggregate_rating</th>\n",
       "    </tr>\n",
       "  </thead>\n",
       "  <tbody>\n",
       "    <tr>\n",
       "      <th>6220</th>\n",
       "      <td>18756337</td>\n",
       "      <td>Alston Bar &amp; Beef</td>\n",
       "      <td>American</td>\n",
       "      <td>0.0</td>\n",
       "    </tr>\n",
       "    <tr>\n",
       "      <th>6623</th>\n",
       "      <td>18445965</td>\n",
       "      <td>Guy Fieri's Kitchen &amp; Bar</td>\n",
       "      <td>American</td>\n",
       "      <td>2.2</td>\n",
       "    </tr>\n",
       "    <tr>\n",
       "      <th>228</th>\n",
       "      <td>7303748</td>\n",
       "      <td>Bob's</td>\n",
       "      <td>American</td>\n",
       "      <td>2.6</td>\n",
       "    </tr>\n",
       "    <tr>\n",
       "      <th>6675</th>\n",
       "      <td>6502573</td>\n",
       "      <td>Hard Rock Cafe</td>\n",
       "      <td>American</td>\n",
       "      <td>2.8</td>\n",
       "    </tr>\n",
       "    <tr>\n",
       "      <th>5849</th>\n",
       "      <td>7100971</td>\n",
       "      <td>Thunderbird Cafe</td>\n",
       "      <td>American</td>\n",
       "      <td>3.2</td>\n",
       "    </tr>\n",
       "  </tbody>\n",
       "</table>\n",
       "</div>"
      ],
      "text/plain": [
       "      restaurant_id            restaurant_name  cuisines  aggregate_rating\n",
       "6220       18756337          Alston Bar & Beef  American               0.0\n",
       "6623       18445965  Guy Fieri's Kitchen & Bar  American               2.2\n",
       "228         7303748                      Bob's  American               2.6\n",
       "6675        6502573             Hard Rock Cafe  American               2.8\n",
       "5849        7100971           Thunderbird Cafe  American               3.2"
      ]
     },
     "execution_count": 61,
     "metadata": {},
     "output_type": "execute_result"
    }
   ],
   "source": [
    "american_min = (df1.loc[(df1['cuisines'] == 'American') & (df1['aggregate_rating'] >= 0.0),\n",
    "                        ['restaurant_id','restaurant_name','cuisines','aggregate_rating']]\n",
    "           .sort_values(['aggregate_rating', 'restaurant_id'], ascending=[True, True])\n",
    "           .head(5))\n",
    "\n",
    "american_min"
   ]
  },
  {
   "cell_type": "markdown",
   "id": "1b20986b-070b-4fca-bd07-b6a6d28c7b6f",
   "metadata": {
    "tags": []
   },
   "source": [
    "## 5. Dos restaurantes que possuem o tipo de culinária árabe, qual o nome do restaurante com a maior média de avaliação?\n",
    "\n",
    "## Mandi@36\té o restaurante com a maior media de avalição"
   ]
  },
  {
   "cell_type": "code",
   "execution_count": 62,
   "id": "6046c2e5-de53-45b2-b3c7-a2412bac5dc2",
   "metadata": {},
   "outputs": [
    {
     "data": {
      "text/html": [
       "<div>\n",
       "<style scoped>\n",
       "    .dataframe tbody tr th:only-of-type {\n",
       "        vertical-align: middle;\n",
       "    }\n",
       "\n",
       "    .dataframe tbody tr th {\n",
       "        vertical-align: top;\n",
       "    }\n",
       "\n",
       "    .dataframe thead th {\n",
       "        text-align: right;\n",
       "    }\n",
       "</style>\n",
       "<table border=\"1\" class=\"dataframe\">\n",
       "  <thead>\n",
       "    <tr style=\"text-align: right;\">\n",
       "      <th></th>\n",
       "      <th>restaurant_id</th>\n",
       "      <th>restaurant_name</th>\n",
       "      <th>cuisines</th>\n",
       "      <th>aggregate_rating</th>\n",
       "    </tr>\n",
       "  </thead>\n",
       "  <tbody>\n",
       "    <tr>\n",
       "      <th>3646</th>\n",
       "      <td>18535007</td>\n",
       "      <td>Mandi@36</td>\n",
       "      <td>Arabian</td>\n",
       "      <td>4.7</td>\n",
       "    </tr>\n",
       "    <tr>\n",
       "      <th>2374</th>\n",
       "      <td>5600517</td>\n",
       "      <td>Madfoon Al Khaimah</td>\n",
       "      <td>Arabian</td>\n",
       "      <td>4.5</td>\n",
       "    </tr>\n",
       "    <tr>\n",
       "      <th>6335</th>\n",
       "      <td>6200166</td>\n",
       "      <td>Wok of Fame</td>\n",
       "      <td>Arabian</td>\n",
       "      <td>4.5</td>\n",
       "    </tr>\n",
       "    <tr>\n",
       "      <th>3030</th>\n",
       "      <td>18770281</td>\n",
       "      <td>Three Kings</td>\n",
       "      <td>Arabian</td>\n",
       "      <td>4.5</td>\n",
       "    </tr>\n",
       "    <tr>\n",
       "      <th>2234</th>\n",
       "      <td>201824</td>\n",
       "      <td>Aroos Damascus</td>\n",
       "      <td>Arabian</td>\n",
       "      <td>4.4</td>\n",
       "    </tr>\n",
       "  </tbody>\n",
       "</table>\n",
       "</div>"
      ],
      "text/plain": [
       "      restaurant_id     restaurant_name cuisines  aggregate_rating\n",
       "3646       18535007            Mandi@36  Arabian               4.7\n",
       "2374        5600517  Madfoon Al Khaimah  Arabian               4.5\n",
       "6335        6200166         Wok of Fame  Arabian               4.5\n",
       "3030       18770281         Three Kings  Arabian               4.5\n",
       "2234         201824      Aroos Damascus  Arabian               4.4"
      ]
     },
     "execution_count": 62,
     "metadata": {},
     "output_type": "execute_result"
    }
   ],
   "source": [
    "arabian_max = (df1.loc[(df1['cuisines'] == 'Arabian') & (df1['aggregate_rating'] >= 4.0),\n",
    "                        ['restaurant_id','restaurant_name','cuisines','aggregate_rating']]\n",
    "           .sort_values(['aggregate_rating', 'restaurant_id'], ascending=[False, True])\n",
    "           .head(5))\n",
    "\n",
    "arabian_max"
   ]
  },
  {
   "cell_type": "markdown",
   "id": "df34a7ee-3715-41ba-be2a-8ec6f44c3316",
   "metadata": {},
   "source": [
    "## 6. Dos restaurantes que possuem o tipo de culinária árabe, qual o nome do restaurante com a menor média de avaliação?\n",
    "\n",
    "## R: Raful é o restaurante com a menor media de avaliação."
   ]
  },
  {
   "cell_type": "code",
   "execution_count": 63,
   "id": "39298cde-2704-4eef-9292-e747bedad10a",
   "metadata": {},
   "outputs": [
    {
     "data": {
      "text/html": [
       "<div>\n",
       "<style scoped>\n",
       "    .dataframe tbody tr th:only-of-type {\n",
       "        vertical-align: middle;\n",
       "    }\n",
       "\n",
       "    .dataframe tbody tr th {\n",
       "        vertical-align: top;\n",
       "    }\n",
       "\n",
       "    .dataframe thead th {\n",
       "        text-align: right;\n",
       "    }\n",
       "</style>\n",
       "<table border=\"1\" class=\"dataframe\">\n",
       "  <thead>\n",
       "    <tr style=\"text-align: right;\">\n",
       "      <th></th>\n",
       "      <th>restaurant_id</th>\n",
       "      <th>restaurant_name</th>\n",
       "      <th>cuisines</th>\n",
       "      <th>aggregate_rating</th>\n",
       "    </tr>\n",
       "  </thead>\n",
       "  <tbody>\n",
       "    <tr>\n",
       "      <th>309</th>\n",
       "      <td>6706513</td>\n",
       "      <td>Raful</td>\n",
       "      <td>Arabian</td>\n",
       "      <td>0.0</td>\n",
       "    </tr>\n",
       "    <tr>\n",
       "      <th>155</th>\n",
       "      <td>6601535</td>\n",
       "      <td>Empório Árabe</td>\n",
       "      <td>Arabian</td>\n",
       "      <td>2.7</td>\n",
       "    </tr>\n",
       "    <tr>\n",
       "      <th>135</th>\n",
       "      <td>6600547</td>\n",
       "      <td>Salim Sou Eu</td>\n",
       "      <td>Arabian</td>\n",
       "      <td>3.1</td>\n",
       "    </tr>\n",
       "    <tr>\n",
       "      <th>4766</th>\n",
       "      <td>18698592</td>\n",
       "      <td>V Empire</td>\n",
       "      <td>Arabian</td>\n",
       "      <td>3.2</td>\n",
       "    </tr>\n",
       "    <tr>\n",
       "      <th>4732</th>\n",
       "      <td>18698769</td>\n",
       "      <td>Abad Hot Chicken</td>\n",
       "      <td>Arabian</td>\n",
       "      <td>3.2</td>\n",
       "    </tr>\n",
       "  </tbody>\n",
       "</table>\n",
       "</div>"
      ],
      "text/plain": [
       "      restaurant_id   restaurant_name cuisines  aggregate_rating\n",
       "309         6706513             Raful  Arabian               0.0\n",
       "155         6601535     Empório Árabe  Arabian               2.7\n",
       "135         6600547      Salim Sou Eu  Arabian               3.1\n",
       "4766       18698592         V Empire   Arabian               3.2\n",
       "4732       18698769  Abad Hot Chicken  Arabian               3.2"
      ]
     },
     "execution_count": 63,
     "metadata": {},
     "output_type": "execute_result"
    }
   ],
   "source": [
    "arabian_min = (df1.loc[(df1['cuisines'] == 'Arabian') & (df1['aggregate_rating'] >= 0.0),\n",
    "                        ['restaurant_id','restaurant_name','cuisines','aggregate_rating']]\n",
    "           .sort_values(['aggregate_rating', 'restaurant_id'], ascending=[True, True])\n",
    "           .head(5))\n",
    "\n",
    "arabian_min"
   ]
  },
  {
   "cell_type": "markdown",
   "id": "9aa41eca-1ce9-4ed2-b3ca-bd8113a5aa44",
   "metadata": {},
   "source": [
    "## 7. Dos restaurantes que possuem o tipo de culinária japonesa, qual o nome do restaurante com a maior média de avaliação?\n",
    "\n",
    "## Sushi Samba é o restaurante do tipo de culinaria Japonesa com a maior media de avaliação."
   ]
  },
  {
   "cell_type": "code",
   "execution_count": 64,
   "id": "7dd1d90d-b8cf-4952-9c53-8b318b25a0c0",
   "metadata": {},
   "outputs": [
    {
     "data": {
      "text/html": [
       "<div>\n",
       "<style scoped>\n",
       "    .dataframe tbody tr th:only-of-type {\n",
       "        vertical-align: middle;\n",
       "    }\n",
       "\n",
       "    .dataframe tbody tr th {\n",
       "        vertical-align: top;\n",
       "    }\n",
       "\n",
       "    .dataframe thead th {\n",
       "        text-align: right;\n",
       "    }\n",
       "</style>\n",
       "<table border=\"1\" class=\"dataframe\">\n",
       "  <thead>\n",
       "    <tr style=\"text-align: right;\">\n",
       "      <th></th>\n",
       "      <th>restaurant_id</th>\n",
       "      <th>restaurant_name</th>\n",
       "      <th>cuisines</th>\n",
       "      <th>aggregate_rating</th>\n",
       "    </tr>\n",
       "  </thead>\n",
       "  <tbody>\n",
       "    <tr>\n",
       "      <th>6108</th>\n",
       "      <td>6107336</td>\n",
       "      <td>Sushi Samba</td>\n",
       "      <td>Japanese</td>\n",
       "      <td>4.9</td>\n",
       "    </tr>\n",
       "    <tr>\n",
       "      <th>6133</th>\n",
       "      <td>6116563</td>\n",
       "      <td>Chotto Matte</td>\n",
       "      <td>Japanese</td>\n",
       "      <td>4.9</td>\n",
       "    </tr>\n",
       "    <tr>\n",
       "      <th>31</th>\n",
       "      <td>6309831</td>\n",
       "      <td>Ramen Yushoken</td>\n",
       "      <td>Japanese</td>\n",
       "      <td>4.9</td>\n",
       "    </tr>\n",
       "    <tr>\n",
       "      <th>16</th>\n",
       "      <td>6316125</td>\n",
       "      <td>Mendokoro Ramenba</td>\n",
       "      <td>Japanese</td>\n",
       "      <td>4.9</td>\n",
       "    </tr>\n",
       "    <tr>\n",
       "      <th>20</th>\n",
       "      <td>6318506</td>\n",
       "      <td>Ooma</td>\n",
       "      <td>Japanese</td>\n",
       "      <td>4.9</td>\n",
       "    </tr>\n",
       "  </tbody>\n",
       "</table>\n",
       "</div>"
      ],
      "text/plain": [
       "      restaurant_id    restaurant_name  cuisines  aggregate_rating\n",
       "6108        6107336        Sushi Samba  Japanese               4.9\n",
       "6133        6116563       Chotto Matte  Japanese               4.9\n",
       "31          6309831     Ramen Yushoken  Japanese               4.9\n",
       "16          6316125  Mendokoro Ramenba  Japanese               4.9\n",
       "20          6318506               Ooma  Japanese               4.9"
      ]
     },
     "execution_count": 64,
     "metadata": {},
     "output_type": "execute_result"
    }
   ],
   "source": [
    "japanse_max = (df1.loc[(df1['cuisines'] == 'Japanese') & (df1['aggregate_rating'] >= 4.0),\n",
    "                        ['restaurant_id','restaurant_name','cuisines','aggregate_rating']]\n",
    "           .sort_values(['aggregate_rating', 'restaurant_id'], ascending=[False, True])\n",
    "           .head(5))\n",
    "\n",
    "japanse_max"
   ]
  },
  {
   "cell_type": "markdown",
   "id": "64817e58-1c60-4115-af69-5c03c1f6904c",
   "metadata": {
    "tags": []
   },
   "source": [
    "## 8. Dos restaurantes que possuem o tipo de culinária japonesa, qual o nome do restaurante com a menor média de avaliação?\n",
    "\n",
    "## Banzai Sushi é o restaurante com a menor media de avaliação do tipo de culinaria Japonesa."
   ]
  },
  {
   "cell_type": "code",
   "execution_count": 66,
   "id": "d4c21f4a-7ed2-46b2-b933-0eb0248e2395",
   "metadata": {},
   "outputs": [
    {
     "data": {
      "text/html": [
       "<div>\n",
       "<style scoped>\n",
       "    .dataframe tbody tr th:only-of-type {\n",
       "        vertical-align: middle;\n",
       "    }\n",
       "\n",
       "    .dataframe tbody tr th {\n",
       "        vertical-align: top;\n",
       "    }\n",
       "\n",
       "    .dataframe thead th {\n",
       "        text-align: right;\n",
       "    }\n",
       "</style>\n",
       "<table border=\"1\" class=\"dataframe\">\n",
       "  <thead>\n",
       "    <tr style=\"text-align: right;\">\n",
       "      <th></th>\n",
       "      <th>restaurant_id</th>\n",
       "      <th>restaurant_name</th>\n",
       "      <th>cuisines</th>\n",
       "      <th>aggregate_rating</th>\n",
       "    </tr>\n",
       "  </thead>\n",
       "  <tbody>\n",
       "    <tr>\n",
       "      <th>114</th>\n",
       "      <td>6600203</td>\n",
       "      <td>Banzai Sushi</td>\n",
       "      <td>Japanese</td>\n",
       "      <td>0.0</td>\n",
       "    </tr>\n",
       "    <tr>\n",
       "      <th>167</th>\n",
       "      <td>7300930</td>\n",
       "      <td>Orienthai</td>\n",
       "      <td>Japanese</td>\n",
       "      <td>2.4</td>\n",
       "    </tr>\n",
       "    <tr>\n",
       "      <th>168</th>\n",
       "      <td>7304077</td>\n",
       "      <td>Hachiko</td>\n",
       "      <td>Japanese</td>\n",
       "      <td>2.5</td>\n",
       "    </tr>\n",
       "    <tr>\n",
       "      <th>103</th>\n",
       "      <td>6600314</td>\n",
       "      <td>Haná</td>\n",
       "      <td>Japanese</td>\n",
       "      <td>2.7</td>\n",
       "    </tr>\n",
       "    <tr>\n",
       "      <th>107</th>\n",
       "      <td>6600379</td>\n",
       "      <td>Sushi Loko</td>\n",
       "      <td>Japanese</td>\n",
       "      <td>2.9</td>\n",
       "    </tr>\n",
       "  </tbody>\n",
       "</table>\n",
       "</div>"
      ],
      "text/plain": [
       "     restaurant_id restaurant_name  cuisines  aggregate_rating\n",
       "114        6600203    Banzai Sushi  Japanese               0.0\n",
       "167        7300930       Orienthai  Japanese               2.4\n",
       "168        7304077         Hachiko  Japanese               2.5\n",
       "103        6600314            Haná  Japanese               2.7\n",
       "107        6600379      Sushi Loko  Japanese               2.9"
      ]
     },
     "execution_count": 66,
     "metadata": {},
     "output_type": "execute_result"
    }
   ],
   "source": [
    "japanse_min = (df1.loc[(df1['cuisines'] == 'Japanese') & (df1['aggregate_rating'] >= 0.0),\n",
    "                        ['restaurant_id','restaurant_name','cuisines','aggregate_rating']]\n",
    "           .sort_values(['aggregate_rating', 'restaurant_id'], ascending=[True, True])\n",
    "           .head(5))\n",
    "\n",
    "japanse_min"
   ]
  },
  {
   "cell_type": "markdown",
   "id": "f4f9fee8-9198-4252-a913-8165288cfd86",
   "metadata": {},
   "source": [
    "## 9. Dos restaurantes que possuem o tipo de culinária caseira, qual o nome do restaurante com a maior média de avaliação?\n",
    "\n",
    "## Kanaat Lokantası é o restaurante com a maior media de avaliação do tipo de culinaria caseira."
   ]
  },
  {
   "cell_type": "code",
   "execution_count": 67,
   "id": "cbd5a2a4-34bc-4418-83e0-8fc9bf9b1ea9",
   "metadata": {},
   "outputs": [
    {
     "data": {
      "text/html": [
       "<div>\n",
       "<style scoped>\n",
       "    .dataframe tbody tr th:only-of-type {\n",
       "        vertical-align: middle;\n",
       "    }\n",
       "\n",
       "    .dataframe tbody tr th {\n",
       "        vertical-align: top;\n",
       "    }\n",
       "\n",
       "    .dataframe thead th {\n",
       "        text-align: right;\n",
       "    }\n",
       "</style>\n",
       "<table border=\"1\" class=\"dataframe\">\n",
       "  <thead>\n",
       "    <tr style=\"text-align: right;\">\n",
       "      <th></th>\n",
       "      <th>restaurant_id</th>\n",
       "      <th>restaurant_name</th>\n",
       "      <th>cuisines</th>\n",
       "      <th>aggregate_rating</th>\n",
       "    </tr>\n",
       "  </thead>\n",
       "  <tbody>\n",
       "    <tr>\n",
       "      <th>6925</th>\n",
       "      <td>5914190</td>\n",
       "      <td>Kanaat Lokantası</td>\n",
       "      <td>Home-made</td>\n",
       "      <td>4.0</td>\n",
       "    </tr>\n",
       "  </tbody>\n",
       "</table>\n",
       "</div>"
      ],
      "text/plain": [
       "      restaurant_id   restaurant_name   cuisines  aggregate_rating\n",
       "6925        5914190  Kanaat Lokantası  Home-made               4.0"
      ]
     },
     "execution_count": 67,
     "metadata": {},
     "output_type": "execute_result"
    }
   ],
   "source": [
    "home_made_max = (df1.loc[(df1['cuisines'] == 'Home-made') & (df1['aggregate_rating'] >= 4.0),\n",
    "                        ['restaurant_id','restaurant_name','cuisines','aggregate_rating']]\n",
    "           .sort_values(['aggregate_rating', 'restaurant_id'], ascending=[False, True])\n",
    "           .head(5))\n",
    "\n",
    "home_made_max"
   ]
  },
  {
   "cell_type": "markdown",
   "id": "cb8698ac-a9fb-45dc-9ede-2055edf6ed86",
   "metadata": {
    "tags": []
   },
   "source": [
    "## 10. Dos restaurantes que possuem o tipo de culinária caseira, qual o nome do restaurante com a menor média de avaliação?\n",
    "\n",
    "## GurMekan Restaurant é o restaurante com a menor media de avaliação do tipo de culinaria caseira."
   ]
  },
  {
   "cell_type": "code",
   "execution_count": 68,
   "id": "69d926bf-bb27-494d-a09d-3d20aaeffa25",
   "metadata": {},
   "outputs": [
    {
     "data": {
      "text/html": [
       "<div>\n",
       "<style scoped>\n",
       "    .dataframe tbody tr th:only-of-type {\n",
       "        vertical-align: middle;\n",
       "    }\n",
       "\n",
       "    .dataframe tbody tr th {\n",
       "        vertical-align: top;\n",
       "    }\n",
       "\n",
       "    .dataframe thead th {\n",
       "        text-align: right;\n",
       "    }\n",
       "</style>\n",
       "<table border=\"1\" class=\"dataframe\">\n",
       "  <thead>\n",
       "    <tr style=\"text-align: right;\">\n",
       "      <th></th>\n",
       "      <th>restaurant_id</th>\n",
       "      <th>restaurant_name</th>\n",
       "      <th>cuisines</th>\n",
       "      <th>aggregate_rating</th>\n",
       "    </tr>\n",
       "  </thead>\n",
       "  <tbody>\n",
       "    <tr>\n",
       "      <th>6779</th>\n",
       "      <td>6007184</td>\n",
       "      <td>GurMekan Restaurant</td>\n",
       "      <td>Home-made</td>\n",
       "      <td>3.7</td>\n",
       "    </tr>\n",
       "    <tr>\n",
       "      <th>6925</th>\n",
       "      <td>5914190</td>\n",
       "      <td>Kanaat Lokantası</td>\n",
       "      <td>Home-made</td>\n",
       "      <td>4.0</td>\n",
       "    </tr>\n",
       "  </tbody>\n",
       "</table>\n",
       "</div>"
      ],
      "text/plain": [
       "      restaurant_id      restaurant_name   cuisines  aggregate_rating\n",
       "6779        6007184  GurMekan Restaurant  Home-made               3.7\n",
       "6925        5914190     Kanaat Lokantası  Home-made               4.0"
      ]
     },
     "execution_count": 68,
     "metadata": {},
     "output_type": "execute_result"
    }
   ],
   "source": [
    "home_made_min = (df1.loc[(df1['cuisines'] == 'Home-made') & (df1['aggregate_rating'] >= 0.0),\n",
    "                        ['restaurant_id','restaurant_name','cuisines','aggregate_rating']]\n",
    "           .sort_values(['aggregate_rating', 'restaurant_id'], ascending=[True, True])\n",
    "           .head(5))\n",
    "\n",
    "home_made_min"
   ]
  },
  {
   "cell_type": "markdown",
   "id": "f215371d-cda2-4050-8f39-03fccf602a7c",
   "metadata": {
    "tags": []
   },
   "source": [
    "## 11. Qual o tipo de culinária que possui o maior valor médio de um prato para duas pessoas?\n",
    "## o Tipo de culinaria com maior valor medio de prato para duas pessoas é o New Mexican\t"
   ]
  },
  {
   "cell_type": "code",
   "execution_count": 69,
   "id": "739d9f5d-bcf9-4656-88f8-cefe0ec84517",
   "metadata": {},
   "outputs": [
    {
     "data": {
      "text/html": [
       "<div>\n",
       "<style scoped>\n",
       "    .dataframe tbody tr th:only-of-type {\n",
       "        vertical-align: middle;\n",
       "    }\n",
       "\n",
       "    .dataframe tbody tr th {\n",
       "        vertical-align: top;\n",
       "    }\n",
       "\n",
       "    .dataframe thead th {\n",
       "        text-align: right;\n",
       "    }\n",
       "</style>\n",
       "<table border=\"1\" class=\"dataframe\">\n",
       "  <thead>\n",
       "    <tr style=\"text-align: right;\">\n",
       "      <th></th>\n",
       "      <th>cuisines</th>\n",
       "      <th>price_in_dollar</th>\n",
       "      <th>restaurant_id</th>\n",
       "    </tr>\n",
       "  </thead>\n",
       "  <tbody>\n",
       "    <tr>\n",
       "      <th>0</th>\n",
       "      <td>New Mexican</td>\n",
       "      <td>180.000</td>\n",
       "      <td>16739097</td>\n",
       "    </tr>\n",
       "    <tr>\n",
       "      <th>1</th>\n",
       "      <td>Modern Australian</td>\n",
       "      <td>114.706</td>\n",
       "      <td>16587253</td>\n",
       "    </tr>\n",
       "    <tr>\n",
       "      <th>2</th>\n",
       "      <td>Argentine</td>\n",
       "      <td>106.787</td>\n",
       "      <td>6601569</td>\n",
       "    </tr>\n",
       "    <tr>\n",
       "      <th>3</th>\n",
       "      <td>Pacific Northwest</td>\n",
       "      <td>106.364</td>\n",
       "      <td>16717368</td>\n",
       "    </tr>\n",
       "    <tr>\n",
       "      <th>4</th>\n",
       "      <td>California</td>\n",
       "      <td>102.500</td>\n",
       "      <td>16843658</td>\n",
       "    </tr>\n",
       "  </tbody>\n",
       "</table>\n",
       "</div>"
      ],
      "text/plain": [
       "            cuisines  price_in_dollar  restaurant_id\n",
       "0        New Mexican          180.000       16739097\n",
       "1  Modern Australian          114.706       16587253\n",
       "2          Argentine          106.787        6601569\n",
       "3  Pacific Northwest          106.364       16717368\n",
       "4         California          102.500       16843658"
      ]
     },
     "execution_count": 69,
     "metadata": {},
     "output_type": "execute_result"
    }
   ],
   "source": [
    "colunas = ['restaurant_id', 'cuisines', 'price_in_dollar']\n",
    "df2 = df1.loc[:, colunas]\n",
    "df3 = df2.groupby('cuisines').agg({'price_in_dollar': 'mean', 'restaurant_id': 'min'})\n",
    "df3 = df3.sort_values(['price_in_dollar', 'restaurant_id'], ascending=[False, True]).head(5).reset_index()\n",
    "df3.round(decimals=3)"
   ]
  },
  {
   "cell_type": "markdown",
   "id": "03132363-eebf-4f39-acf0-f3fed5c5b778",
   "metadata": {},
   "source": [
    "## 12. Qual o tipo de culinária que possui a maior nota média?\n",
    "\n",
    "## R: Others é o tipo de culinaria com a maior nota media."
   ]
  },
  {
   "cell_type": "code",
   "execution_count": 70,
   "id": "8816290e-16d2-4a3d-a8b2-e91282a59a66",
   "metadata": {},
   "outputs": [
    {
     "data": {
      "text/html": [
       "<div>\n",
       "<style scoped>\n",
       "    .dataframe tbody tr th:only-of-type {\n",
       "        vertical-align: middle;\n",
       "    }\n",
       "\n",
       "    .dataframe tbody tr th {\n",
       "        vertical-align: top;\n",
       "    }\n",
       "\n",
       "    .dataframe thead th {\n",
       "        text-align: right;\n",
       "    }\n",
       "</style>\n",
       "<table border=\"1\" class=\"dataframe\">\n",
       "  <thead>\n",
       "    <tr style=\"text-align: right;\">\n",
       "      <th></th>\n",
       "      <th>cuisines</th>\n",
       "      <th>aggregate_rating</th>\n",
       "    </tr>\n",
       "  </thead>\n",
       "  <tbody>\n",
       "    <tr>\n",
       "      <th>0</th>\n",
       "      <td>Others</td>\n",
       "      <td>4.90</td>\n",
       "    </tr>\n",
       "    <tr>\n",
       "      <th>1</th>\n",
       "      <td>Ramen</td>\n",
       "      <td>4.80</td>\n",
       "    </tr>\n",
       "    <tr>\n",
       "      <th>2</th>\n",
       "      <td>Egyptian</td>\n",
       "      <td>4.80</td>\n",
       "    </tr>\n",
       "    <tr>\n",
       "      <th>3</th>\n",
       "      <td>Ottoman</td>\n",
       "      <td>4.80</td>\n",
       "    </tr>\n",
       "    <tr>\n",
       "      <th>4</th>\n",
       "      <td>Sunda</td>\n",
       "      <td>4.75</td>\n",
       "    </tr>\n",
       "  </tbody>\n",
       "</table>\n",
       "</div>"
      ],
      "text/plain": [
       "   cuisines  aggregate_rating\n",
       "0    Others              4.90\n",
       "1     Ramen              4.80\n",
       "2  Egyptian              4.80\n",
       "3   Ottoman              4.80\n",
       "4     Sunda              4.75"
      ]
     },
     "execution_count": 70,
     "metadata": {},
     "output_type": "execute_result"
    }
   ],
   "source": [
    "colunas = ['cuisines', 'aggregate_rating']\n",
    "df2 = df1.loc[:, colunas]\n",
    "df3 = df2.groupby('cuisines').agg({'aggregate_rating': 'mean'})\n",
    "df3 = df3.sort_values('aggregate_rating', ascending=False)\n",
    "df3.loc[df3['aggregate_rating'] >= 4.0].head(5).reset_index()"
   ]
  },
  {
   "cell_type": "markdown",
   "id": "dc7898bf-17f9-4872-9051-42d1a5448ad0",
   "metadata": {},
   "source": [
    "## 13. Qual o tipo de culinária que possui mais restaurantes que aceitam pedidos online e fazem entregas?\n",
    "\n",
    "## North Indian\té o tipo de culinaria que tem mais restaurantes que aceitam pedidos online "
   ]
  },
  {
   "cell_type": "code",
   "execution_count": 71,
   "id": "3edba80d-a499-466f-95ac-b34e2e8a1f06",
   "metadata": {},
   "outputs": [
    {
     "data": {
      "text/html": [
       "<div>\n",
       "<style scoped>\n",
       "    .dataframe tbody tr th:only-of-type {\n",
       "        vertical-align: middle;\n",
       "    }\n",
       "\n",
       "    .dataframe tbody tr th {\n",
       "        vertical-align: top;\n",
       "    }\n",
       "\n",
       "    .dataframe thead th {\n",
       "        text-align: right;\n",
       "    }\n",
       "</style>\n",
       "<table border=\"1\" class=\"dataframe\">\n",
       "  <thead>\n",
       "    <tr style=\"text-align: right;\">\n",
       "      <th></th>\n",
       "      <th>cuisines</th>\n",
       "      <th>has_online_delivery</th>\n",
       "      <th>is_delivering_now</th>\n",
       "      <th>restaurant_id</th>\n",
       "    </tr>\n",
       "  </thead>\n",
       "  <tbody>\n",
       "    <tr>\n",
       "      <th>0</th>\n",
       "      <td>North Indian</td>\n",
       "      <td>1</td>\n",
       "      <td>1</td>\n",
       "      <td>317</td>\n",
       "    </tr>\n",
       "    <tr>\n",
       "      <th>1</th>\n",
       "      <td>Cafe</td>\n",
       "      <td>1</td>\n",
       "      <td>1</td>\n",
       "      <td>131</td>\n",
       "    </tr>\n",
       "    <tr>\n",
       "      <th>2</th>\n",
       "      <td>South Indian</td>\n",
       "      <td>1</td>\n",
       "      <td>1</td>\n",
       "      <td>79</td>\n",
       "    </tr>\n",
       "    <tr>\n",
       "      <th>3</th>\n",
       "      <td>Burger</td>\n",
       "      <td>1</td>\n",
       "      <td>1</td>\n",
       "      <td>76</td>\n",
       "    </tr>\n",
       "    <tr>\n",
       "      <th>4</th>\n",
       "      <td>Fast Food</td>\n",
       "      <td>1</td>\n",
       "      <td>1</td>\n",
       "      <td>72</td>\n",
       "    </tr>\n",
       "  </tbody>\n",
       "</table>\n",
       "</div>"
      ],
      "text/plain": [
       "       cuisines  has_online_delivery  is_delivering_now  restaurant_id\n",
       "0  North Indian                    1                  1            317\n",
       "1          Cafe                    1                  1            131\n",
       "2  South Indian                    1                  1             79\n",
       "3        Burger                    1                  1             76\n",
       "4     Fast Food                    1                  1             72"
      ]
     },
     "execution_count": 71,
     "metadata": {},
     "output_type": "execute_result"
    }
   ],
   "source": [
    "colunas = ['restaurant_id', 'cuisines', 'has_online_delivery', 'is_delivering_now']\n",
    "df2 = df1.loc[(df1['has_online_delivery'] == 1) & (df1['is_delivering_now'] == 1), colunas]\n",
    "df3 = df2.groupby(['cuisines', 'has_online_delivery', 'is_delivering_now']).agg({'restaurant_id': 'count'})\n",
    "df3.sort_values('restaurant_id', ascending=False).head(5).reset_index()\n"
   ]
  },
  {
   "cell_type": "code",
   "execution_count": null,
   "id": "0574fc93-a1d4-4bd1-8702-08ccd1a3f184",
   "metadata": {},
   "outputs": [],
   "source": []
  }
 ],
 "metadata": {
  "kernelspec": {
   "display_name": "Python 3 (ipykernel)",
   "language": "python",
   "name": "python3"
  },
  "language_info": {
   "codemirror_mode": {
    "name": "ipython",
    "version": 3
   },
   "file_extension": ".py",
   "mimetype": "text/x-python",
   "name": "python",
   "nbconvert_exporter": "python",
   "pygments_lexer": "ipython3",
   "version": "3.8.16"
  }
 },
 "nbformat": 4,
 "nbformat_minor": 5
}
